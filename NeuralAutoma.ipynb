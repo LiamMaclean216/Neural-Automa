{
 "cells": [
  {
   "cell_type": "code",
   "execution_count": 1,
   "id": "81c1480d",
   "metadata": {},
   "outputs": [],
   "source": [
    "import numpy as np\n",
    "import torch\n",
    "import torch.nn.functional as F\n",
    "import torch.nn as nn\n",
    "from torch.distributions import normal\n",
    "import matplotlib.pyplot as plt\n",
    "from utils import *\n",
    "from rule import *\n",
    "from evaluation import *\n",
    "from IPython.display import clear_output\n",
    "import time\n",
    "import random\n",
    "\n",
    "from IPython.lib.deepreload import reload\n",
    "%load_ext autoreload\n",
    "%autoreload 2\n",
    "\n",
    "params = {\n",
    "    \"n_layers\" : 3,\n",
    "    \"layer_width\" : 3,\n",
    "    \n",
    "    \"cell_state_size\" : 5,\n",
    "    \n",
    "    \"inputs\" : 2,\n",
    "    \"outputs\" : 1,\n",
    "    \n",
    "    \"n_samples_per_evaluation\" : 90, \n",
    "    \"time_per_sample\" : 10,    \n",
    "    \"population_size\" : 20,\n",
    "    \n",
    "    \"mutation_rate\" : 0.05,\n",
    "    \n",
    "    \"n_cell_hyperparams\" : 1,\n",
    "    \"output_cell_coord\" : [2,3],\n",
    "}\n",
    "\n",
    "cell_hyperparams = torch.zeros([params[\"layer_width\"]+2, params[\"n_layers\"]+2, params[\"n_cell_hyperparams\"]])\n",
    "cell_hyperparams[params[\"output_cell_coord\"][0]][params[\"output_cell_coord\"][1]][0] = 1\n",
    "cell_hyperparams[1][1][0] = -1\n",
    "cell_hyperparams[2][1][0] = -1\n",
    "\n",
    "params[\"cell_hyperparams\"] = cell_hyperparams\n"
   ]
  },
  {
   "cell_type": "code",
   "execution_count": 2,
   "id": "6bf4442d",
   "metadata": {},
   "outputs": [],
   "source": [
    "rules = []\n",
    "for i in range(params[\"population_size\"]):\n",
    "    rules.append(Rule(params))"
   ]
  },
  {
   "cell_type": "code",
   "execution_count": 3,
   "id": "8bc20352",
   "metadata": {
    "scrolled": true
   },
   "outputs": [
    {
     "data": {
      "image/png": "[encoded data removed]",
      "text/plain": [
       "<Figure size 432x288 with 1 Axes>"
      ]
     },
     "metadata": {
      "needs_background": "light"
     },
     "output_type": "display_data"
    },
    {
     "name": "stdout",
     "output_type": "stream",
     "text": [
      "315 | Best Rewards : -415   "
     ]
    },
    {
     "ename": "KeyboardInterrupt",
     "evalue": "",
     "output_type": "error",
     "traceback": [
      "\u001b[1;31m---------------------------------------------------------------------------\u001b[0m",
      "\u001b[1;31mKeyboardInterrupt\u001b[0m                         Traceback (most recent call last)",
      "\u001b[1;32m<ipython-input-3-a8d9d9e63306>\u001b[0m in \u001b[0;36m<module>\u001b[1;34m\u001b[0m\n\u001b[0;32m      6\u001b[0m \u001b[1;32mfor\u001b[0m \u001b[0me\u001b[0m \u001b[1;32min\u001b[0m \u001b[0mrange\u001b[0m\u001b[1;33m(\u001b[0m\u001b[1;36m2000\u001b[0m\u001b[1;33m)\u001b[0m\u001b[1;33m:\u001b[0m\u001b[1;33m\u001b[0m\u001b[1;33m\u001b[0m\u001b[0m\n\u001b[0;32m      7\u001b[0m \u001b[1;33m\u001b[0m\u001b[0m\n\u001b[1;32m----> 8\u001b[1;33m     \u001b[0mrules\u001b[0m\u001b[1;33m,\u001b[0m \u001b[0mbest\u001b[0m \u001b[1;33m=\u001b[0m \u001b[0mevaluate_population\u001b[0m\u001b[1;33m(\u001b[0m\u001b[0mrules\u001b[0m\u001b[1;33m,\u001b[0m \u001b[0mgen\u001b[0m\u001b[1;33m,\u001b[0m \u001b[0mparams\u001b[0m\u001b[1;33m)\u001b[0m\u001b[1;33m\u001b[0m\u001b[1;33m\u001b[0m\u001b[0m\n\u001b[0m\u001b[0;32m      9\u001b[0m \u001b[1;33m\u001b[0m\u001b[0m\n\u001b[0;32m     10\u001b[0m     \u001b[1;32mif\u001b[0m \u001b[0me\u001b[0m \u001b[1;33m%\u001b[0m \u001b[1;36m30\u001b[0m \u001b[1;33m==\u001b[0m \u001b[1;36m0\u001b[0m\u001b[1;33m:\u001b[0m\u001b[1;33m\u001b[0m\u001b[1;33m\u001b[0m\u001b[0m\n",
      "\u001b[1;32m~\\Google Drive\\GitHub\\Neural-Automa\\evaluation.py\u001b[0m in \u001b[0;36mevaluate_population\u001b[1;34m(rules, gen, params)\u001b[0m\n\u001b[0;32m     83\u001b[0m     \u001b[0mrewards\u001b[0m \u001b[1;33m=\u001b[0m \u001b[0mnp\u001b[0m\u001b[1;33m.\u001b[0m\u001b[0marray\u001b[0m\u001b[1;33m(\u001b[0m\u001b[1;33m[\u001b[0m\u001b[1;36m0\u001b[0m\u001b[1;33m]\u001b[0m \u001b[1;33m*\u001b[0m \u001b[0mparams\u001b[0m\u001b[1;33m[\u001b[0m\u001b[1;34m\"population_size\"\u001b[0m\u001b[1;33m]\u001b[0m\u001b[1;33m)\u001b[0m\u001b[1;33m\u001b[0m\u001b[1;33m\u001b[0m\u001b[0m\n\u001b[0;32m     84\u001b[0m     \u001b[1;32mfor\u001b[0m \u001b[0midx\u001b[0m\u001b[1;33m,\u001b[0m \u001b[0mr\u001b[0m  \u001b[1;32min\u001b[0m \u001b[0menumerate\u001b[0m\u001b[1;33m(\u001b[0m\u001b[0mrules\u001b[0m\u001b[1;33m)\u001b[0m\u001b[1;33m:\u001b[0m\u001b[1;33m\u001b[0m\u001b[1;33m\u001b[0m\u001b[0m\n\u001b[1;32m---> 85\u001b[1;33m         \u001b[0mrewards\u001b[0m\u001b[1;33m[\u001b[0m\u001b[0midx\u001b[0m\u001b[1;33m]\u001b[0m\u001b[1;33m,\u001b[0m \u001b[0mhistory\u001b[0m\u001b[1;33m[\u001b[0m\u001b[0midx\u001b[0m\u001b[1;33m]\u001b[0m \u001b[1;33m=\u001b[0m \u001b[1;33m(\u001b[0m\u001b[0mevaluate_rule_on_generator\u001b[0m\u001b[1;33m(\u001b[0m\u001b[0mr\u001b[0m\u001b[1;33m,\u001b[0m \u001b[0mgen\u001b[0m\u001b[1;33m,\u001b[0m \u001b[0mparams\u001b[0m\u001b[1;33m)\u001b[0m\u001b[1;33m)\u001b[0m\u001b[1;33m\u001b[0m\u001b[1;33m\u001b[0m\u001b[0m\n\u001b[0m\u001b[0;32m     86\u001b[0m \u001b[1;33m\u001b[0m\u001b[0m\n\u001b[0;32m     87\u001b[0m     \u001b[1;31m#print(rewards)\u001b[0m\u001b[1;33m\u001b[0m\u001b[1;33m\u001b[0m\u001b[1;33m\u001b[0m\u001b[0m\n",
      "\u001b[1;32m~\\Google Drive\\GitHub\\Neural-Automa\\evaluation.py\u001b[0m in \u001b[0;36mevaluate_rule_on_generator\u001b[1;34m(rule, gen, params)\u001b[0m\n\u001b[0;32m     66\u001b[0m \u001b[1;33m\u001b[0m\u001b[0m\n\u001b[0;32m     67\u001b[0m             \u001b[0mn_in\u001b[0m\u001b[1;33m,\u001b[0m \u001b[0mn_out\u001b[0m \u001b[1;33m=\u001b[0m \u001b[0mnext\u001b[0m\u001b[1;33m(\u001b[0m\u001b[0mgen\u001b[0m\u001b[1;33m)\u001b[0m\u001b[1;33m\u001b[0m\u001b[1;33m\u001b[0m\u001b[0m\n\u001b[1;32m---> 68\u001b[1;33m             \u001b[0mr\u001b[0m\u001b[1;33m,\u001b[0m \u001b[0mh\u001b[0m \u001b[1;33m=\u001b[0m \u001b[0mevaluate_rule\u001b[0m\u001b[1;33m(\u001b[0m\u001b[0mrule\u001b[0m\u001b[1;33m,\u001b[0m \u001b[0mn_in\u001b[0m\u001b[1;33m,\u001b[0m \u001b[0mn_out\u001b[0m\u001b[1;33m,\u001b[0m \u001b[0mparams\u001b[0m\u001b[1;33m,\u001b[0m \u001b[0mgrid\u001b[0m\u001b[1;33m,\u001b[0m \u001b[0mgive_labels\u001b[0m\u001b[1;33m)\u001b[0m\u001b[1;33m\u001b[0m\u001b[1;33m\u001b[0m\u001b[0m\n\u001b[0m\u001b[0;32m     69\u001b[0m             \u001b[0mhistory\u001b[0m\u001b[1;33m[\u001b[0m\u001b[1;34m\"predicted_history\"\u001b[0m\u001b[1;33m]\u001b[0m\u001b[1;33m+=\u001b[0m\u001b[1;33m(\u001b[0m\u001b[0mh\u001b[0m\u001b[1;33m[\u001b[0m\u001b[1;34m\"predicted_history\"\u001b[0m\u001b[1;33m]\u001b[0m\u001b[1;33m)\u001b[0m\u001b[1;33m\u001b[0m\u001b[1;33m\u001b[0m\u001b[0m\n\u001b[0;32m     70\u001b[0m             \u001b[0mhistory\u001b[0m\u001b[1;33m[\u001b[0m\u001b[1;34m\"label_history\"\u001b[0m\u001b[1;33m]\u001b[0m\u001b[1;33m+=\u001b[0m\u001b[1;33m(\u001b[0m\u001b[0mh\u001b[0m\u001b[1;33m[\u001b[0m\u001b[1;34m\"label_history\"\u001b[0m\u001b[1;33m]\u001b[0m\u001b[1;33m)\u001b[0m\u001b[1;33m\u001b[0m\u001b[1;33m\u001b[0m\u001b[0m\n",
      "\u001b[1;32m~\\Google Drive\\GitHub\\Neural-Automa\\evaluation.py\u001b[0m in \u001b[0;36mevaluate_rule\u001b[1;34m(rule, n_in, n_out, params, grid, give_labels)\u001b[0m\n\u001b[0;32m     30\u001b[0m             \u001b[0mpretty_print\u001b[0m\u001b[1;33m(\u001b[0m\u001b[0mgrid\u001b[0m\u001b[1;33m)\u001b[0m\u001b[1;33m\u001b[0m\u001b[1;33m\u001b[0m\u001b[0m\n\u001b[0;32m     31\u001b[0m \u001b[1;33m\u001b[0m\u001b[0m\n\u001b[1;32m---> 32\u001b[1;33m         \u001b[0mgrid\u001b[0m \u001b[1;33m=\u001b[0m \u001b[0mrule\u001b[0m\u001b[1;33m.\u001b[0m\u001b[0mapply_rule\u001b[0m\u001b[1;33m(\u001b[0m\u001b[0mgrid\u001b[0m\u001b[1;33m)\u001b[0m\u001b[1;33m\u001b[0m\u001b[1;33m\u001b[0m\u001b[0m\n\u001b[0m\u001b[0;32m     33\u001b[0m \u001b[1;33m\u001b[0m\u001b[0m\n\u001b[0;32m     34\u001b[0m         \u001b[0mn_predicted\u001b[0m \u001b[1;33m=\u001b[0m \u001b[0mgrid\u001b[0m\u001b[1;33m[\u001b[0m\u001b[0mparams\u001b[0m\u001b[1;33m[\u001b[0m\u001b[1;34m\"output_cell_coord\"\u001b[0m\u001b[1;33m]\u001b[0m\u001b[1;33m[\u001b[0m\u001b[1;36m0\u001b[0m\u001b[1;33m]\u001b[0m\u001b[1;33m]\u001b[0m\u001b[1;33m[\u001b[0m\u001b[0mparams\u001b[0m\u001b[1;33m[\u001b[0m\u001b[1;34m\"output_cell_coord\"\u001b[0m\u001b[1;33m]\u001b[0m\u001b[1;33m[\u001b[0m\u001b[1;36m1\u001b[0m\u001b[1;33m]\u001b[0m\u001b[1;33m]\u001b[0m\u001b[1;33m[\u001b[0m\u001b[1;36m0\u001b[0m\u001b[1;33m]\u001b[0m\u001b[1;31m#grid[3][5][0]\u001b[0m\u001b[1;33m\u001b[0m\u001b[1;33m\u001b[0m\u001b[0m\n",
      "\u001b[1;32m~\\Google Drive\\GitHub\\Neural-Automa\\rule.py\u001b[0m in \u001b[0;36mapply_rule\u001b[1;34m(self, x)\u001b[0m\n\u001b[0;32m     75\u001b[0m         \u001b[1;31m#print(x.shape)\u001b[0m\u001b[1;33m\u001b[0m\u001b[1;33m\u001b[0m\u001b[1;33m\u001b[0m\u001b[0m\n\u001b[0;32m     76\u001b[0m \u001b[1;33m\u001b[0m\u001b[0m\n\u001b[1;32m---> 77\u001b[1;33m         \u001b[0mx\u001b[0m \u001b[1;33m=\u001b[0m \u001b[0mself\u001b[0m\u001b[1;33m.\u001b[0m\u001b[0mpad_cell_grid\u001b[0m\u001b[1;33m(\u001b[0m\u001b[0mx\u001b[0m\u001b[1;33m)\u001b[0m\u001b[1;33m\u001b[0m\u001b[1;33m\u001b[0m\u001b[0m\n\u001b[0m\u001b[0;32m     78\u001b[0m         \u001b[0mx\u001b[0m \u001b[1;33m=\u001b[0m \u001b[0mtorch\u001b[0m\u001b[1;33m.\u001b[0m\u001b[0mcat\u001b[0m\u001b[1;33m(\u001b[0m\u001b[1;33m(\u001b[0m\u001b[0mx\u001b[0m\u001b[1;33m,\u001b[0m \u001b[0mself\u001b[0m\u001b[1;33m.\u001b[0m\u001b[0mparams\u001b[0m\u001b[1;33m[\u001b[0m\u001b[1;34m\"cell_hyperparams\"\u001b[0m\u001b[1;33m]\u001b[0m\u001b[1;33m)\u001b[0m\u001b[1;33m,\u001b[0m \u001b[1;33m-\u001b[0m\u001b[1;36m1\u001b[0m\u001b[1;33m)\u001b[0m\u001b[1;33m\u001b[0m\u001b[1;33m\u001b[0m\u001b[0m\n\u001b[0;32m     79\u001b[0m \u001b[1;33m\u001b[0m\u001b[0m\n",
      "\u001b[1;32m~\\Google Drive\\GitHub\\Neural-Automa\\rule.py\u001b[0m in \u001b[0;36mpad_cell_grid\u001b[1;34m(self, x)\u001b[0m\n\u001b[0;32m     63\u001b[0m        \u001b[1;31m# print(x)\u001b[0m\u001b[1;33m\u001b[0m\u001b[1;33m\u001b[0m\u001b[1;33m\u001b[0m\u001b[0m\n\u001b[0;32m     64\u001b[0m         x_padded = torch.stack(\n\u001b[1;32m---> 65\u001b[1;33m             \u001b[1;33m[\u001b[0m\u001b[0mF\u001b[0m\u001b[1;33m.\u001b[0m\u001b[0mpad\u001b[0m\u001b[1;33m(\u001b[0m\u001b[0mx\u001b[0m\u001b[1;33m[\u001b[0m\u001b[1;33m:\u001b[0m\u001b[1;33m,\u001b[0m\u001b[1;33m:\u001b[0m\u001b[1;33m,\u001b[0m\u001b[0mi\u001b[0m\u001b[1;33m]\u001b[0m\u001b[1;33m,\u001b[0m\u001b[1;33m(\u001b[0m\u001b[1;36m1\u001b[0m\u001b[1;33m,\u001b[0m\u001b[1;36m1\u001b[0m\u001b[1;33m,\u001b[0m\u001b[1;36m1\u001b[0m\u001b[1;33m,\u001b[0m\u001b[1;36m1\u001b[0m\u001b[1;33m)\u001b[0m\u001b[1;33m,\u001b[0m \u001b[1;34m\"constant\"\u001b[0m\u001b[1;33m,\u001b[0m \u001b[1;36m0\u001b[0m\u001b[1;33m)\u001b[0m\u001b[1;33m.\u001b[0m\u001b[0munsqueeze\u001b[0m\u001b[1;33m(\u001b[0m\u001b[1;33m-\u001b[0m\u001b[1;36m1\u001b[0m\u001b[1;33m)\u001b[0m \u001b[1;32mfor\u001b[0m \u001b[0mi\u001b[0m \u001b[1;32min\u001b[0m \u001b[0mrange\u001b[0m\u001b[1;33m(\u001b[0m\u001b[0mself\u001b[0m\u001b[1;33m.\u001b[0m\u001b[0mcell_state_size\u001b[0m\u001b[1;33m)\u001b[0m\u001b[1;33m]\u001b[0m\u001b[1;33m\u001b[0m\u001b[1;33m\u001b[0m\u001b[0m\n\u001b[0m\u001b[0;32m     66\u001b[0m         ,-1).squeeze(-2)\n\u001b[0;32m     67\u001b[0m \u001b[1;33m\u001b[0m\u001b[0m\n",
      "\u001b[1;32m~\\Google Drive\\GitHub\\Neural-Automa\\rule.py\u001b[0m in \u001b[0;36m<listcomp>\u001b[1;34m(.0)\u001b[0m\n\u001b[0;32m     63\u001b[0m        \u001b[1;31m# print(x)\u001b[0m\u001b[1;33m\u001b[0m\u001b[1;33m\u001b[0m\u001b[1;33m\u001b[0m\u001b[0m\n\u001b[0;32m     64\u001b[0m         x_padded = torch.stack(\n\u001b[1;32m---> 65\u001b[1;33m             \u001b[1;33m[\u001b[0m\u001b[0mF\u001b[0m\u001b[1;33m.\u001b[0m\u001b[0mpad\u001b[0m\u001b[1;33m(\u001b[0m\u001b[0mx\u001b[0m\u001b[1;33m[\u001b[0m\u001b[1;33m:\u001b[0m\u001b[1;33m,\u001b[0m\u001b[1;33m:\u001b[0m\u001b[1;33m,\u001b[0m\u001b[0mi\u001b[0m\u001b[1;33m]\u001b[0m\u001b[1;33m,\u001b[0m\u001b[1;33m(\u001b[0m\u001b[1;36m1\u001b[0m\u001b[1;33m,\u001b[0m\u001b[1;36m1\u001b[0m\u001b[1;33m,\u001b[0m\u001b[1;36m1\u001b[0m\u001b[1;33m,\u001b[0m\u001b[1;36m1\u001b[0m\u001b[1;33m)\u001b[0m\u001b[1;33m,\u001b[0m \u001b[1;34m\"constant\"\u001b[0m\u001b[1;33m,\u001b[0m \u001b[1;36m0\u001b[0m\u001b[1;33m)\u001b[0m\u001b[1;33m.\u001b[0m\u001b[0munsqueeze\u001b[0m\u001b[1;33m(\u001b[0m\u001b[1;33m-\u001b[0m\u001b[1;36m1\u001b[0m\u001b[1;33m)\u001b[0m \u001b[1;32mfor\u001b[0m \u001b[0mi\u001b[0m \u001b[1;32min\u001b[0m \u001b[0mrange\u001b[0m\u001b[1;33m(\u001b[0m\u001b[0mself\u001b[0m\u001b[1;33m.\u001b[0m\u001b[0mcell_state_size\u001b[0m\u001b[1;33m)\u001b[0m\u001b[1;33m]\u001b[0m\u001b[1;33m\u001b[0m\u001b[1;33m\u001b[0m\u001b[0m\n\u001b[0m\u001b[0;32m     66\u001b[0m         ,-1).squeeze(-2)\n\u001b[0;32m     67\u001b[0m \u001b[1;33m\u001b[0m\u001b[0m\n",
      "\u001b[1;32m~\\AppData\\Roaming\\Python\\Python38\\site-packages\\torch\\nn\\functional.py\u001b[0m in \u001b[0;36m_pad\u001b[1;34m(input, pad, mode, value)\u001b[0m\n\u001b[0;32m   4172\u001b[0m     \u001b[1;32massert\u001b[0m \u001b[0mlen\u001b[0m\u001b[1;33m(\u001b[0m\u001b[0mpad\u001b[0m\u001b[1;33m)\u001b[0m \u001b[1;33m//\u001b[0m \u001b[1;36m2\u001b[0m \u001b[1;33m<=\u001b[0m \u001b[0minput\u001b[0m\u001b[1;33m.\u001b[0m\u001b[0mdim\u001b[0m\u001b[1;33m(\u001b[0m\u001b[1;33m)\u001b[0m\u001b[1;33m,\u001b[0m \u001b[1;34m\"Padding length too large\"\u001b[0m\u001b[1;33m\u001b[0m\u001b[1;33m\u001b[0m\u001b[0m\n\u001b[0;32m   4173\u001b[0m     \u001b[1;32mif\u001b[0m \u001b[0mmode\u001b[0m \u001b[1;33m==\u001b[0m \u001b[1;34m\"constant\"\u001b[0m\u001b[1;33m:\u001b[0m\u001b[1;33m\u001b[0m\u001b[1;33m\u001b[0m\u001b[0m\n\u001b[1;32m-> 4174\u001b[1;33m         \u001b[1;32mreturn\u001b[0m \u001b[0m_VF\u001b[0m\u001b[1;33m.\u001b[0m\u001b[0mconstant_pad_nd\u001b[0m\u001b[1;33m(\u001b[0m\u001b[0minput\u001b[0m\u001b[1;33m,\u001b[0m \u001b[0mpad\u001b[0m\u001b[1;33m,\u001b[0m \u001b[0mvalue\u001b[0m\u001b[1;33m)\u001b[0m\u001b[1;33m\u001b[0m\u001b[1;33m\u001b[0m\u001b[0m\n\u001b[0m\u001b[0;32m   4175\u001b[0m     \u001b[1;32melse\u001b[0m\u001b[1;33m:\u001b[0m\u001b[1;33m\u001b[0m\u001b[1;33m\u001b[0m\u001b[0m\n\u001b[0;32m   4176\u001b[0m         \u001b[1;32massert\u001b[0m \u001b[0mvalue\u001b[0m \u001b[1;33m==\u001b[0m \u001b[1;36m0.0\u001b[0m\u001b[1;33m,\u001b[0m \u001b[1;34m'Padding mode \"{}\"\" doesn\\'t take in value argument'\u001b[0m\u001b[1;33m.\u001b[0m\u001b[0mformat\u001b[0m\u001b[1;33m(\u001b[0m\u001b[0mmode\u001b[0m\u001b[1;33m)\u001b[0m\u001b[1;33m\u001b[0m\u001b[1;33m\u001b[0m\u001b[0m\n",
      "\u001b[1;31mKeyboardInterrupt\u001b[0m: "
     ]
    }
   ],
   "source": [
    "params[\"verbose\"] = False\n",
    "\n",
    "\n",
    "gen = gate_sample_gen(gate=\"XOR\")\n",
    "\n",
    "for e in range(2000):\n",
    "    \n",
    "    rules, best = evaluate_population(rules, gen, params)\n",
    "    \n",
    "    if e % 30 == 0:\n",
    "        clear_output(wait=True)\n",
    "        plt.plot(best['best_history']['label_history'])\n",
    "        plt.plot(best['best_history']['predicted_history'])\n",
    "        \n",
    "        plt.show()\n",
    "    print(f\"\\r{e} | Best Rewards : {best['best_reward']}   \", end=\"\")\n",
    "    \n",
    "    \n",
    "    \n",
    "    \n",
    "    #print(len(new_rules))\n",
    "    "
   ]
  },
  {
   "cell_type": "code",
   "execution_count": null,
   "id": "e9d98ac3",
   "metadata": {},
   "outputs": [],
   "source": [
    "#print(best['best_history']['label_history'])]\n",
    "plt.plot(best['best_history']['label_history'])\n",
    "plt.plot(best['best_history']['predicted_history'])"
   ]
  },
  {
   "cell_type": "code",
   "execution_count": null,
   "id": "e1a15e6f",
   "metadata": {},
   "outputs": [],
   "source": [
    "best_rule =  best[\"best_rule\"]\n",
    "best_rule.params = params\n",
    "params[\"time_per_sample\"] = 30\n",
    "params[\"verbose\"] = True\n",
    "rewards, history = evaluate_rule_on_generator(best_rule, gen, params)"
   ]
  },
  {
   "cell_type": "code",
   "execution_count": null,
   "id": "536e9279",
   "metadata": {},
   "outputs": [],
   "source": [
    "plt.plot(history['label_history'])\n",
    "plt.plot(history['predicted_history'])"
   ]
  },
  {
   "cell_type": "code",
   "execution_count": null,
   "id": "04581589",
   "metadata": {},
   "outputs": [],
   "source": [
    "pretty_print(best_rule.build_grid())"
   ]
  },
  {
   "cell_type": "code",
   "execution_count": null,
   "id": "23f0a7ab",
   "metadata": {
    "scrolled": true
   },
   "outputs": [],
   "source": [
    "x = best_rule.build_grid()\n",
    "x = insert_io(x, torch.tensor([-1,1]), torch.tensor([1]))\n",
    "pretty_print(x)"
   ]
  },
  {
   "cell_type": "code",
   "execution_count": null,
   "id": "e173ef4f",
   "metadata": {},
   "outputs": [],
   "source": [
    "best_rule = best[\"best_rule\"]\n",
    "x = best_rule.build_grid()"
   ]
  },
  {
   "cell_type": "code",
   "execution_count": null,
   "id": "edad249b",
   "metadata": {
    "scrolled": true
   },
   "outputs": [],
   "source": [
    "#inputs = [[-1,-1], [-1,1], [1,-1], [1,1]]\n",
    "#outputs=[[-1],[1],[1],[-1]]\n",
    "inputs = [[-1,-1], [1,1]]\n",
    "outputs=[[-1],[1]]\n",
    "#inputs = [[-1,1]]\n",
    "#outputs=[[1]]\n",
    "for e in range(100):\n",
    "    for in_,out in zip(inputs,outputs):\n",
    "       # if(random.choice([True, False])):\n",
    "        #    out = [0]\n",
    "        for i in range(30):\n",
    "            #print(in_, out)\n",
    "            o = out\n",
    "            #if(i < 10):\n",
    "            \n",
    "                \n",
    "            x = insert_io(x, torch.tensor(in_), torch.tensor(o))\n",
    "            \n",
    "            clear_output(wait=True)\n",
    "            pretty_print(x)\n",
    "            \n",
    "            \n",
    "            x = best_rule.apply_rule(x)\n",
    "            \n",
    "            n_predicted = x[params[\"output_cell_coord\"][0]][params[\"output_cell_coord\"][1]][0]\n",
    "            print(n_predicted.squeeze().detach().numpy().item())\n",
    "            time.sleep(0.1)\n",
    "            #x = insert_io(x, torch.tensor(in_), torch.tensor(out))\n",
    "            \n",
    "            \n",
    "            \n",
    "            #x = insert_io(x, torch.tensor(in_), torch.tensor(out))\n",
    "\n",
    "        #pretty_print(x)\n",
    "        #print(x[3][3][0])\n",
    "\n",
    "    "
   ]
  },
  {
   "cell_type": "code",
   "execution_count": null,
   "id": "a05b6618",
   "metadata": {
    "scrolled": true
   },
   "outputs": [],
   "source": [
    "\n",
    "in_ = [-1,1]\n",
    "out = [0]\n",
    "for i in range(15):\n",
    "    x = insert_io(x, torch.tensor(in_), torch.tensor(out))\n",
    "    x = best_rule.apply_rule(x)\n",
    "    \n",
    "    #x = insert_io(x, torch.tensor(in_), torch.tensor(out))\n",
    "    \n",
    "    print(x[3][3][0])"
   ]
  },
  {
   "cell_type": "code",
   "execution_count": null,
   "id": "f7168d0e",
   "metadata": {},
   "outputs": [],
   "source": [
    "pretty_print(x)\n"
   ]
  },
  {
   "cell_type": "code",
   "execution_count": null,
   "id": "3e1ebc93",
   "metadata": {},
   "outputs": [],
   "source": [
    "import matplotlib.pyplot as plt"
   ]
  },
  {
   "cell_type": "code",
   "execution_count": null,
   "id": "c145e845",
   "metadata": {},
   "outputs": [],
   "source": [
    "plt.plot([0,1],[3,4])\n",
    "plt.plot([0,1],[3,1])"
   ]
  },
  {
   "cell_type": "code",
   "execution_count": null,
   "id": "ff20140d",
   "metadata": {},
   "outputs": [],
   "source": [
    "plt.plot(best['best_history']['label_history'][0:60])\n",
    "plt.plot(best['best_history']['predicted_history'][0:60])"
   ]
  },
  {
   "cell_type": "code",
   "execution_count": null,
   "id": "6f202a32",
   "metadata": {
    "scrolled": true
   },
   "outputs": [],
   "source": [
    "params[\"verbose\"] = True\n",
    "evaluate_rule(best_rule,[-1,-1],[0], params)"
   ]
  },
  {
   "cell_type": "code",
   "execution_count": null,
   "id": "fc6d85e8",
   "metadata": {},
   "outputs": [],
   "source": []
  },
  {
   "cell_type": "code",
   "execution_count": null,
   "id": "e27f7b74",
   "metadata": {},
   "outputs": [],
   "source": [
    "import importlib\n",
    "importlib.reload(Rule)\n"
   ]
  },
  {
   "cell_type": "code",
   "execution_count": null,
   "id": "8109ccc6",
   "metadata": {},
   "outputs": [],
   "source": []
  },
  {
   "cell_type": "code",
   "execution_count": null,
   "id": "3f517fa6",
   "metadata": {},
   "outputs": [],
   "source": []
  },
  {
   "cell_type": "code",
   "execution_count": null,
   "id": "5617d38c",
   "metadata": {},
   "outputs": [],
   "source": [
    "plt.plot(history['label_history'])\n",
    "plt.plot(history['predicted_history'])"
   ]
  },
  {
   "cell_type": "code",
   "execution_count": null,
   "id": "bb91d45e",
   "metadata": {},
   "outputs": [],
   "source": [
    "rewards"
   ]
  },
  {
   "cell_type": "code",
   "execution_count": null,
   "id": "6721dec5",
   "metadata": {},
   "outputs": [],
   "source": [
    "{[2,3] : 4}"
   ]
  },
  {
   "cell_type": "code",
   "execution_count": null,
   "id": "06dbea01",
   "metadata": {},
   "outputs": [],
   "source": []
  }
 ],
 "metadata": {
  "kernelspec": {
   "display_name": "Python 3",
   "language": "python",
   "name": "python3"
  },
  "language_info": {
   "codemirror_mode": {
    "name": "ipython",
    "version": 3
   },
   "file_extension": ".py",
   "mimetype": "text/x-python",
   "name": "python",
   "nbconvert_exporter": "python",
   "pygments_lexer": "ipython3",
   "version": "3.8.0"
  }
 },
 "nbformat": 4,
 "nbformat_minor": 5
}
