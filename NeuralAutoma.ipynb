{
 "cells": [
  {
   "cell_type": "code",
   "execution_count": 1,
   "id": "81c1480d",
   "metadata": {},
   "outputs": [],
   "source": [
    "import numpy as np\n",
    "import torch\n",
    "import torch.nn.functional as F\n",
    "import torch.nn as nn\n",
    "from torch.distributions import normal\n"
   ]
  },
  {
   "cell_type": "code",
   "execution_count": 30,
   "id": "7c957c31",
   "metadata": {},
   "outputs": [],
   "source": [
    "def gate_sample(gate = \"XOR\", batch_size = 1):\n",
    "   # input = (np.random.rand(N, 2) > 0.5) * 1\n",
    "    \n",
    "    values = np.array([[0,0],[0,1], [1,0], [1,1]])\n",
    "    np.random.shuffle(values)\n",
    "    if gate == \"XOR\":\n",
    "        out = (np.logical_xor(values[:,0], values[:,1]) * 1)\n",
    "        \n",
    "    elif gate == \"AND\":\n",
    "        out = (np.logical_and(values[:,0], values[:,1]) * 1)\n",
    "    \n",
    "    out = np.expand_dims(out, axis=-1)\n",
    "    return values*2-1, out*2-1\n",
    "\n",
    "def gate_sample_gen(gate = \"XOR\"):\n",
    "    while True:\n",
    "        sample = gate_sample(gate = gate)\n",
    "        for (i,o) in zip(sample[0], sample[1]):\n",
    "            yield i,o\n",
    "\n",
    "def pretty_print(a, cutoff = 13):\n",
    "    with np.printoptions(formatter=dict(float=lambda t: \"%5.3f\" % t), precision=2):\n",
    "        for i in a:\n",
    "            for j in i:\n",
    "                #vector_values = np.abs(j.detach().numpy()).__str__()\n",
    "                vector_values = j.detach().numpy().__str__()\n",
    "                if len(vector_values) > cutoff:\n",
    "                    print(vector_values[:cutoff] + \"...]\",end=\"\")\n",
    "                    continue\n",
    "                \n",
    "                print(vector_values,end=\"\")\n",
    "            print(\"\")\n",
    "            \n",
    "def insert_io(grid, i, o):\n",
    "    grid[:, 0][1:3] = i.unsqueeze(-1)\n",
    "    grid[:, -1][2] = o.unsqueeze(-1)\n",
    "    return grid\n",
    "\n",
    "gen = gate_sample_gen(gate = \"XOR\")"
   ]
  },
  {
   "cell_type": "code",
   "execution_count": 59,
   "id": "7d572c94",
   "metadata": {},
   "outputs": [
    {
     "data": {
      "text/plain": [
       "(array([-1,  1]), array([-1]))"
      ]
     },
     "execution_count": 59,
     "metadata": {},
     "output_type": "execute_result"
    }
   ],
   "source": [
    "gen = gate_sample_gen(gate = \"AND\")\n",
    "next(gen)"
   ]
  },
  {
   "cell_type": "code",
   "execution_count": null,
   "id": "a3242131",
   "metadata": {},
   "outputs": [],
   "source": []
  },
  {
   "cell_type": "code",
   "execution_count": 3,
   "id": "6bf4442d",
   "metadata": {},
   "outputs": [],
   "source": [
    "class Rule(nn.Module):\n",
    "    def __init__(self, cell_state_size = 7):\n",
    "        super(Rule, self).__init__()\n",
    "        self.mutation_distribution = normal.Normal(0, 0.01)\n",
    "        self.cell_state_size = cell_state_size\n",
    "        \n",
    "        self.fc1 = nn.Linear(self.cell_state_size * 9, 5, bias = False)\n",
    "        self.fc2 = nn.Linear(5, 5, bias = False)\n",
    "        self.fc3 = nn.Linear(5, self.cell_state_size, bias = False)\n",
    "        \n",
    "    def forward(self,x):\n",
    "        x = self.fc1(x)\n",
    "        \n",
    "        x = self.fc2(x)\n",
    "        x = self.fc3(x)\n",
    "        x = torch.tanh(x)\n",
    "        return x#.squeeze(-1)\n",
    "\n",
    "    #get model parameters as vector\n",
    "    def get_params(self):\n",
    "        params = []\n",
    "        for p in self.parameters():\n",
    "            view = p.view(p.numel())\n",
    "            params.append(view)\n",
    "        params = torch.cat(params, dim=0)\n",
    "        return params\n",
    "    \n",
    "        #turn vector into model parameters\n",
    "    def set_params(self,data):\n",
    "        idx = 0\n",
    "        for p in self.parameters():\n",
    "            view = data[idx:idx+p.numel()].view(p.shape)\n",
    "            p.data = view\n",
    "            idx+=p.numel()\n",
    "        #return model\n",
    "    \n",
    "    def gen_child(self):\n",
    "        mom = self.get_params()\n",
    "        \n",
    "        child = Rule(cell_state_size = self.cell_state_size)\n",
    "        child.set_params(mom + self.mutation_distribution.sample(mom.shape))\n",
    "        \n",
    "        return child\n",
    "\n",
    "    def pad_cell_grid(self, x):\n",
    "       # print(x)\n",
    "        x_padded = torch.stack(\n",
    "            [F.pad(x[:,:,i],(1,1,1,1), \"constant\", 0).unsqueeze(-1) for i in range(self.cell_state_size)]\n",
    "        ,-1).squeeze(-2)\n",
    "        \n",
    "        return x_padded\n",
    "    \n",
    "    def apply_rule(self, x):\n",
    "        x = x.unfold(0,3,1).unfold(1,3,1)\n",
    "        #print(x)\n",
    "        x = x.reshape([x.shape[0], x.shape[1], x.shape[2]* x.shape[3] * x.shape[4]])\n",
    "        x = self.forward(x)\n",
    "        #print(x.shape)\n",
    "        \n",
    "        x = self.pad_cell_grid(x)\n",
    "        \n",
    "        return x\n",
    "    \n",
    "    def build_grid(self, n_layers, layer_width):\n",
    "        cells = torch.stack(\n",
    "                [F.pad(torch.tanh(torch.rand(layer_width,n_layers)).float() + 1,(1,1,1,1), \"constant\", 0).unsqueeze(-1) for _ in range(self.cell_state_size)]\n",
    "            ,-1).squeeze(-2)\n",
    "        \n",
    "        return cells\n",
    "    \n",
    "rules = []\n",
    "for i in range(population_size):\n",
    "    rules.append(Rule(cell_state_size = cell_state_size))"
   ]
  },
  {
   "cell_type": "code",
   "execution_count": 36,
   "id": "be9b2b5f",
   "metadata": {
    "scrolled": true
   },
   "outputs": [
    {
     "name": "stdout",
     "output_type": "stream",
     "text": [
      "[ 1 -1] [1] tensor(0.9997, grad_fn=<SelectBackward0>)\n",
      "[ 1 -1] [1] tensor(0.9997, grad_fn=<SelectBackward0>)\n",
      "[ 1 -1] [1] tensor(0.9997, grad_fn=<SelectBackward0>)\n",
      "[ 1 -1] [1] tensor(0.9997, grad_fn=<SelectBackward0>)\n",
      "[ 1 -1] [1] tensor(0.9998, grad_fn=<SelectBackward0>)\n",
      "[ 1 -1] [1] tensor(0.9998, grad_fn=<SelectBackward0>)\n",
      "[ 1 -1] [1] tensor(0.9998, grad_fn=<SelectBackward0>)\n",
      "[ 1 -1] [1] tensor(0.9998, grad_fn=<SelectBackward0>)\n",
      "[ 1 -1] [1] tensor(0.9998, grad_fn=<SelectBackward0>)\n",
      "####\n",
      "[-1 -1] [-1] tensor(-0.9997, grad_fn=<SelectBackward0>)\n",
      "[-1 -1] [-1] tensor(-0.9997, grad_fn=<SelectBackward0>)\n",
      "[-1 -1] [-1] tensor(-0.9998, grad_fn=<SelectBackward0>)\n",
      "[-1 -1] [-1] tensor(-0.9998, grad_fn=<SelectBackward0>)\n",
      "[-1 -1] [-1] tensor(-0.9998, grad_fn=<SelectBackward0>)\n",
      "[-1 -1] [-1] tensor(-0.9998, grad_fn=<SelectBackward0>)\n",
      "[-1 -1] [-1] tensor(-0.9998, grad_fn=<SelectBackward0>)\n",
      "[-1 -1] [-1] tensor(-0.9998, grad_fn=<SelectBackward0>)\n",
      "[-1 -1] [-1] tensor(-0.9998, grad_fn=<SelectBackward0>)\n",
      "####\n",
      "[-1  1] [1] tensor(0.9997, grad_fn=<SelectBackward0>)\n",
      "[-1  1] [1] tensor(0.9996, grad_fn=<SelectBackward0>)\n",
      "[-1  1] [1] tensor(0.9996, grad_fn=<SelectBackward0>)\n",
      "[-1  1] [1] tensor(0.9996, grad_fn=<SelectBackward0>)\n",
      "[-1  1] [1] tensor(0.9997, grad_fn=<SelectBackward0>)\n",
      "[-1  1] [1] tensor(0.9997, grad_fn=<SelectBackward0>)\n",
      "[-1  1] [1] tensor(0.9997, grad_fn=<SelectBackward0>)\n",
      "[-1  1] [1] tensor(0.9997, grad_fn=<SelectBackward0>)\n",
      "[-1  1] [1] tensor(0.9997, grad_fn=<SelectBackward0>)\n",
      "####\n",
      "[1 1] [-1] tensor(-0.9998, grad_fn=<SelectBackward0>)\n",
      "[1 1] [-1] tensor(-0.9998, grad_fn=<SelectBackward0>)\n",
      "[1 1] [-1] tensor(-0.9998, grad_fn=<SelectBackward0>)\n",
      "[1 1] [-1] tensor(-0.9999, grad_fn=<SelectBackward0>)\n",
      "[1 1] [-1] tensor(-0.9998, grad_fn=<SelectBackward0>)\n",
      "[1 1] [-1] tensor(-0.9998, grad_fn=<SelectBackward0>)\n",
      "[1 1] [-1] tensor(-0.9998, grad_fn=<SelectBackward0>)\n",
      "[1 1] [-1] tensor(-0.9998, grad_fn=<SelectBackward0>)\n",
      "[1 1] [-1] tensor(-0.9998, grad_fn=<SelectBackward0>)\n",
      "####\n",
      "[-1  1] [1] tensor(0.9993, grad_fn=<SelectBackward0>)\n",
      "[-1  1] [1] tensor(0.9992, grad_fn=<SelectBackward0>)\n",
      "[-1  1] [1] tensor(0.9991, grad_fn=<SelectBackward0>)\n",
      "[-1  1] [1] tensor(0.9992, grad_fn=<SelectBackward0>)\n",
      "[-1  1] [1] tensor(0.9993, grad_fn=<SelectBackward0>)\n",
      "[-1  1] [1] tensor(0.9994, grad_fn=<SelectBackward0>)\n",
      "[-1  1] [1] tensor(0.9994, grad_fn=<SelectBackward0>)\n",
      "[-1  1] [1] tensor(0.9994, grad_fn=<SelectBackward0>)\n",
      "[-1  1] [1] tensor(0.9994, grad_fn=<SelectBackward0>)\n",
      "####\n",
      "[-1 -1] [-1] tensor(-0.9997, grad_fn=<SelectBackward0>)\n",
      "[-1 -1] [-1] tensor(-0.9997, grad_fn=<SelectBackward0>)\n",
      "[-1 -1] [-1] tensor(-0.9997, grad_fn=<SelectBackward0>)\n",
      "[-1 -1] [-1] tensor(-0.9997, grad_fn=<SelectBackward0>)\n",
      "[-1 -1] [-1] tensor(-0.9998, grad_fn=<SelectBackward0>)\n",
      "[-1 -1] [-1] tensor(-0.9998, grad_fn=<SelectBackward0>)\n",
      "[-1 -1] [-1] tensor(-0.9998, grad_fn=<SelectBackward0>)\n",
      "[-1 -1] [-1] tensor(-0.9998, grad_fn=<SelectBackward0>)\n",
      "[-1 -1] [-1] tensor(-0.9998, grad_fn=<SelectBackward0>)\n",
      "####\n",
      "[1 1] [-1] tensor(-0.9997, grad_fn=<SelectBackward0>)\n",
      "[1 1] [-1] tensor(-0.9997, grad_fn=<SelectBackward0>)\n",
      "[1 1] [-1] tensor(-0.9998, grad_fn=<SelectBackward0>)\n",
      "[1 1] [-1] tensor(-0.9998, grad_fn=<SelectBackward0>)\n",
      "[1 1] [-1] tensor(-0.9998, grad_fn=<SelectBackward0>)\n",
      "[1 1] [-1] tensor(-0.9998, grad_fn=<SelectBackward0>)\n",
      "[1 1] [-1] tensor(-0.9998, grad_fn=<SelectBackward0>)\n",
      "[1 1] [-1] tensor(-0.9998, grad_fn=<SelectBackward0>)\n",
      "[1 1] [-1] tensor(-0.9998, grad_fn=<SelectBackward0>)\n",
      "####\n",
      "[ 1 -1] [1] tensor(0.9995, grad_fn=<SelectBackward0>)\n",
      "[ 1 -1] [1] tensor(0.9995, grad_fn=<SelectBackward0>)\n",
      "[ 1 -1] [1] tensor(0.9995, grad_fn=<SelectBackward0>)\n",
      "[ 1 -1] [1] tensor(0.9995, grad_fn=<SelectBackward0>)\n",
      "[ 1 -1] [1] tensor(0.9996, grad_fn=<SelectBackward0>)\n",
      "[ 1 -1] [1] tensor(0.9996, grad_fn=<SelectBackward0>)\n",
      "[ 1 -1] [1] tensor(0.9996, grad_fn=<SelectBackward0>)\n",
      "[ 1 -1] [1] tensor(0.9996, grad_fn=<SelectBackward0>)\n",
      "[ 1 -1] [1] tensor(0.9996, grad_fn=<SelectBackward0>)\n",
      "####\n",
      "[-1 -1] [-1] tensor(-0.9981, grad_fn=<SelectBackward0>)\n",
      "[-1 -1] [-1] tensor(-0.9982, grad_fn=<SelectBackward0>)\n",
      "[-1 -1] [-1] tensor(-0.9982, grad_fn=<SelectBackward0>)\n",
      "[-1 -1] [-1] tensor(-0.9982, grad_fn=<SelectBackward0>)\n",
      "[-1 -1] [-1] tensor(-0.9981, grad_fn=<SelectBackward0>)\n",
      "[-1 -1] [-1] tensor(-0.9981, grad_fn=<SelectBackward0>)\n",
      "[-1 -1] [-1] tensor(-0.9981, grad_fn=<SelectBackward0>)\n",
      "[-1 -1] [-1] tensor(-0.9981, grad_fn=<SelectBackward0>)\n",
      "[-1 -1] [-1] tensor(-0.9981, grad_fn=<SelectBackward0>)\n",
      "####\n",
      "[-1  1] [1] tensor(0.9992, grad_fn=<SelectBackward0>)\n",
      "[-1  1] [1] tensor(0.9991, grad_fn=<SelectBackward0>)\n",
      "[-1  1] [1] tensor(0.9990, grad_fn=<SelectBackward0>)\n",
      "[-1  1] [1] tensor(0.9989, grad_fn=<SelectBackward0>)\n",
      "[-1  1] [1] tensor(0.9988, grad_fn=<SelectBackward0>)\n",
      "[-1  1] [1] tensor(0.9988, grad_fn=<SelectBackward0>)\n",
      "[-1  1] [1] tensor(0.9987, grad_fn=<SelectBackward0>)\n",
      "[-1  1] [1] tensor(0.9987, grad_fn=<SelectBackward0>)\n",
      "[-1  1] [1] tensor(0.9987, grad_fn=<SelectBackward0>)\n",
      "####\n",
      "[1 1] [-1] tensor(-0.9984, grad_fn=<SelectBackward0>)\n",
      "[1 1] [-1] tensor(-0.9985, grad_fn=<SelectBackward0>)\n",
      "[1 1] [-1] tensor(-0.9985, grad_fn=<SelectBackward0>)\n",
      "[1 1] [-1] tensor(-0.9984, grad_fn=<SelectBackward0>)\n",
      "[1 1] [-1] tensor(-0.9984, grad_fn=<SelectBackward0>)\n",
      "[1 1] [-1] tensor(-0.9984, grad_fn=<SelectBackward0>)\n",
      "[1 1] [-1] tensor(-0.9984, grad_fn=<SelectBackward0>)\n",
      "[1 1] [-1] tensor(-0.9984, grad_fn=<SelectBackward0>)\n",
      "[1 1] [-1] tensor(-0.9984, grad_fn=<SelectBackward0>)\n",
      "####\n",
      "[ 1 -1] [1] tensor(0.9994, grad_fn=<SelectBackward0>)\n",
      "[ 1 -1] [1] tensor(0.9994, grad_fn=<SelectBackward0>)\n",
      "[ 1 -1] [1] tensor(0.9993, grad_fn=<SelectBackward0>)\n",
      "[ 1 -1] [1] tensor(0.9992, grad_fn=<SelectBackward0>)\n",
      "[ 1 -1] [1] tensor(0.9991, grad_fn=<SelectBackward0>)\n",
      "[ 1 -1] [1] tensor(0.9988, grad_fn=<SelectBackward0>)\n",
      "[ 1 -1] [1] tensor(0.9988, grad_fn=<SelectBackward0>)\n",
      "[ 1 -1] [1] tensor(0.9988, grad_fn=<SelectBackward0>)\n",
      "[ 1 -1] [1] tensor(0.9987, grad_fn=<SelectBackward0>)\n",
      "####\n",
      "[-1  1] [1] tensor(0.9992, grad_fn=<SelectBackward0>)\n",
      "[-1  1] [1] tensor(0.9992, grad_fn=<SelectBackward0>)\n",
      "[-1  1] [1] tensor(0.9989, grad_fn=<SelectBackward0>)\n",
      "[-1  1] [1] tensor(0.9986, grad_fn=<SelectBackward0>)\n",
      "[-1  1] [1] tensor(0.9979, grad_fn=<SelectBackward0>)\n",
      "[-1  1] [1] tensor(0.9976, grad_fn=<SelectBackward0>)\n",
      "[-1  1] [1] tensor(0.9977, grad_fn=<SelectBackward0>)\n",
      "[-1  1] [1] tensor(0.9978, grad_fn=<SelectBackward0>)\n",
      "[-1  1] [1] tensor(0.9978, grad_fn=<SelectBackward0>)\n",
      "####\n",
      "[-1 -1] [-1] tensor(-0.9977, grad_fn=<SelectBackward0>)\n",
      "[-1 -1] [-1] tensor(-0.9978, grad_fn=<SelectBackward0>)\n",
      "[-1 -1] [-1] tensor(-0.9978, grad_fn=<SelectBackward0>)\n",
      "[-1 -1] [-1] tensor(-0.9977, grad_fn=<SelectBackward0>)\n",
      "[-1 -1] [-1] tensor(-0.9976, grad_fn=<SelectBackward0>)\n",
      "[-1 -1] [-1] tensor(-0.9976, grad_fn=<SelectBackward0>)\n",
      "[-1 -1] [-1] tensor(-0.9976, grad_fn=<SelectBackward0>)\n",
      "[-1 -1] [-1] tensor(-0.9976, grad_fn=<SelectBackward0>)\n",
      "[-1 -1] [-1] tensor(-0.9976, grad_fn=<SelectBackward0>)\n",
      "####\n",
      "[ 1 -1] [1] tensor(0.9993, grad_fn=<SelectBackward0>)\n",
      "[ 1 -1] [1] tensor(0.9993, grad_fn=<SelectBackward0>)\n",
      "[ 1 -1] [1] tensor(0.9992, grad_fn=<SelectBackward0>)\n",
      "[ 1 -1] [1] tensor(0.9990, grad_fn=<SelectBackward0>)\n",
      "[ 1 -1] [1] tensor(0.9989, grad_fn=<SelectBackward0>)\n",
      "[ 1 -1] [1] tensor(0.9988, grad_fn=<SelectBackward0>)\n",
      "[ 1 -1] [1] tensor(0.9986, grad_fn=<SelectBackward0>)\n",
      "[ 1 -1] [1] tensor(0.9984, grad_fn=<SelectBackward0>)\n",
      "[ 1 -1] [1] tensor(0.9983, grad_fn=<SelectBackward0>)\n",
      "####\n",
      "[1 1] [-1] tensor(-0.9977, grad_fn=<SelectBackward0>)\n",
      "[1 1] [-1] tensor(-0.9978, grad_fn=<SelectBackward0>)\n",
      "[1 1] [-1] tensor(-0.9978, grad_fn=<SelectBackward0>)\n",
      "[1 1] [-1] tensor(-0.9977, grad_fn=<SelectBackward0>)\n",
      "[1 1] [-1] tensor(-0.9977, grad_fn=<SelectBackward0>)\n",
      "[1 1] [-1] tensor(-0.9977, grad_fn=<SelectBackward0>)\n",
      "[1 1] [-1] tensor(-0.9977, grad_fn=<SelectBackward0>)\n",
      "[1 1] [-1] tensor(-0.9976, grad_fn=<SelectBackward0>)\n",
      "[1 1] [-1] tensor(-0.9976, grad_fn=<SelectBackward0>)\n",
      "####\n",
      "[-1 -1] [-1] tensor(-0.9982, grad_fn=<SelectBackward0>)\n",
      "[-1 -1] [-1] tensor(-0.9983, grad_fn=<SelectBackward0>)\n",
      "[-1 -1] [-1] tensor(-0.9983, grad_fn=<SelectBackward0>)\n",
      "[-1 -1] [-1] tensor(-0.9982, grad_fn=<SelectBackward0>)\n",
      "[-1 -1] [-1] tensor(-0.9982, grad_fn=<SelectBackward0>)\n",
      "[-1 -1] [-1] tensor(-0.9982, grad_fn=<SelectBackward0>)\n",
      "[-1 -1] [-1] tensor(-0.9982, grad_fn=<SelectBackward0>)\n",
      "[-1 -1] [-1] tensor(-0.9982, grad_fn=<SelectBackward0>)\n",
      "[-1 -1] [-1] tensor(-0.9982, grad_fn=<SelectBackward0>)\n",
      "####\n",
      "[1 1] [-1] tensor(-0.9979, grad_fn=<SelectBackward0>)\n",
      "[1 1] [-1] tensor(-0.9979, grad_fn=<SelectBackward0>)\n",
      "[1 1] [-1] tensor(-0.9979, grad_fn=<SelectBackward0>)\n",
      "[1 1] [-1] tensor(-0.9978, grad_fn=<SelectBackward0>)\n",
      "[1 1] [-1] tensor(-0.9978, grad_fn=<SelectBackward0>)\n",
      "[1 1] [-1] tensor(-0.9978, grad_fn=<SelectBackward0>)\n",
      "[1 1] [-1] tensor(-0.9978, grad_fn=<SelectBackward0>)\n",
      "[1 1] [-1] tensor(-0.9978, grad_fn=<SelectBackward0>)\n",
      "[1 1] [-1] tensor(-0.9978, grad_fn=<SelectBackward0>)\n",
      "####\n",
      "[-1  1] [1] tensor(0.9992, grad_fn=<SelectBackward0>)\n",
      "[-1  1] [1] tensor(0.9992, grad_fn=<SelectBackward0>)\n",
      "[-1  1] [1] tensor(0.9990, grad_fn=<SelectBackward0>)\n",
      "[-1  1] [1] tensor(0.9989, grad_fn=<SelectBackward0>)\n",
      "[-1  1] [1] tensor(0.9987, grad_fn=<SelectBackward0>)\n",
      "[-1  1] [1] tensor(0.9984, grad_fn=<SelectBackward0>)\n",
      "[-1  1] [1] tensor(0.9982, grad_fn=<SelectBackward0>)\n",
      "[-1  1] [1] tensor(0.9981, grad_fn=<SelectBackward0>)\n",
      "[-1  1] [1] tensor(0.9981, grad_fn=<SelectBackward0>)\n",
      "####\n",
      "[ 1 -1] [1] tensor(0.9994, grad_fn=<SelectBackward0>)\n",
      "[ 1 -1] [1] tensor(0.9993, grad_fn=<SelectBackward0>)\n",
      "[ 1 -1] [1] tensor(0.9991, grad_fn=<SelectBackward0>)\n",
      "[ 1 -1] [1] tensor(0.9987, grad_fn=<SelectBackward0>)\n",
      "[ 1 -1] [1] tensor(0.9980, grad_fn=<SelectBackward0>)\n",
      "[ 1 -1] [1] tensor(0.9976, grad_fn=<SelectBackward0>)\n",
      "[ 1 -1] [1] tensor(0.9976, grad_fn=<SelectBackward0>)\n",
      "[ 1 -1] [1] tensor(0.9978, grad_fn=<SelectBackward0>)\n",
      "[ 1 -1] [1] tensor(0.9978, grad_fn=<SelectBackward0>)\n",
      "####\n",
      "0 | Best Rewards : 0   [1 1] [-1] tensor(-0.9975, grad_fn=<SelectBackward0>)\n",
      "[1 1] [-1] tensor(-0.9977, grad_fn=<SelectBackward0>)\n",
      "[1 1] [-1] tensor(-0.9976, grad_fn=<SelectBackward0>)\n",
      "[1 1] [-1] tensor(-0.9976, grad_fn=<SelectBackward0>)\n",
      "[1 1] [-1] tensor(-0.9975, grad_fn=<SelectBackward0>)\n",
      "[1 1] [-1] tensor(-0.9975, grad_fn=<SelectBackward0>)\n",
      "[1 1] [-1] tensor(-0.9975, grad_fn=<SelectBackward0>)\n",
      "[1 1] [-1] tensor(-0.9975, grad_fn=<SelectBackward0>)\n",
      "[1 1] [-1] tensor(-0.9975, grad_fn=<SelectBackward0>)\n",
      "####\n",
      "[-1 -1] [-1] tensor(-0.9979, grad_fn=<SelectBackward0>)\n",
      "[-1 -1] [-1] tensor(-0.9979, grad_fn=<SelectBackward0>)\n",
      "[-1 -1] [-1] tensor(-0.9978, grad_fn=<SelectBackward0>)\n",
      "[-1 -1] [-1] tensor(-0.9978, grad_fn=<SelectBackward0>)\n",
      "[-1 -1] [-1] tensor(-0.9977, grad_fn=<SelectBackward0>)\n",
      "[-1 -1] [-1] tensor(-0.9977, grad_fn=<SelectBackward0>)\n",
      "[-1 -1] [-1] tensor(-0.9977, grad_fn=<SelectBackward0>)\n",
      "[-1 -1] [-1] tensor(-0.9976, grad_fn=<SelectBackward0>)\n",
      "[-1 -1] [-1] tensor(-0.9976, grad_fn=<SelectBackward0>)\n",
      "####\n",
      "[-1  1] [1] tensor(0.9992, grad_fn=<SelectBackward0>)\n",
      "[-1  1] [1] tensor(0.9992, grad_fn=<SelectBackward0>)\n",
      "[-1  1] [1] tensor(0.9991, grad_fn=<SelectBackward0>)\n",
      "[-1  1] [1] tensor(0.9988, grad_fn=<SelectBackward0>)\n",
      "[-1  1] [1] tensor(0.9983, grad_fn=<SelectBackward0>)\n",
      "[-1  1] [1] tensor(0.9979, grad_fn=<SelectBackward0>)\n",
      "[-1  1] [1] tensor(0.9979, grad_fn=<SelectBackward0>)\n",
      "[-1  1] [1] tensor(0.9979, grad_fn=<SelectBackward0>)\n",
      "[-1  1] [1] tensor(0.9979, grad_fn=<SelectBackward0>)\n",
      "####\n",
      "[ 1 -1] [1] tensor(0.9992, grad_fn=<SelectBackward0>)\n",
      "[ 1 -1] [1] tensor(0.9993, grad_fn=<SelectBackward0>)\n",
      "[ 1 -1] [1] tensor(0.9992, grad_fn=<SelectBackward0>)\n",
      "[ 1 -1] [1] tensor(0.9990, grad_fn=<SelectBackward0>)\n",
      "[ 1 -1] [1] tensor(0.9987, grad_fn=<SelectBackward0>)\n",
      "[ 1 -1] [1] tensor(0.9984, grad_fn=<SelectBackward0>)\n",
      "[ 1 -1] [1] tensor(0.9981, grad_fn=<SelectBackward0>)\n",
      "[ 1 -1] [1] tensor(0.9980, grad_fn=<SelectBackward0>)\n",
      "[ 1 -1] [1] tensor(0.9979, grad_fn=<SelectBackward0>)\n",
      "####\n",
      "[-1  1] [1] tensor(0.9992, grad_fn=<SelectBackward0>)\n",
      "[-1  1] [1] tensor(0.9992, grad_fn=<SelectBackward0>)\n",
      "[-1  1] [1] tensor(0.9990, grad_fn=<SelectBackward0>)\n",
      "[-1  1] [1] tensor(0.9988, grad_fn=<SelectBackward0>)\n",
      "[-1  1] [1] tensor(0.9981, grad_fn=<SelectBackward0>)\n",
      "[-1  1] [1] tensor(0.9978, grad_fn=<SelectBackward0>)\n",
      "[-1  1] [1] tensor(0.9979, grad_fn=<SelectBackward0>)\n",
      "[-1  1] [1] tensor(0.9980, grad_fn=<SelectBackward0>)\n",
      "[-1  1] [1] tensor(0.9979, grad_fn=<SelectBackward0>)\n",
      "####\n",
      "[-1 -1] [-1] tensor(-0.9977, grad_fn=<SelectBackward0>)\n",
      "[-1 -1] [-1] tensor(-0.9979, grad_fn=<SelectBackward0>)\n",
      "[-1 -1] [-1] tensor(-0.9979, grad_fn=<SelectBackward0>)\n",
      "[-1 -1] [-1] tensor(-0.9978, grad_fn=<SelectBackward0>)\n",
      "[-1 -1] [-1] tensor(-0.9978, grad_fn=<SelectBackward0>)\n",
      "[-1 -1] [-1] tensor(-0.9977, grad_fn=<SelectBackward0>)\n",
      "[-1 -1] [-1] tensor(-0.9977, grad_fn=<SelectBackward0>)\n",
      "[-1 -1] [-1] tensor(-0.9977, grad_fn=<SelectBackward0>)\n",
      "[-1 -1] [-1] tensor(-0.9977, grad_fn=<SelectBackward0>)\n",
      "####\n",
      "[ 1 -1] [1] tensor(0.9991, grad_fn=<SelectBackward0>)\n",
      "[ 1 -1] [1] tensor(0.9989, grad_fn=<SelectBackward0>)\n",
      "[ 1 -1] [1] tensor(0.9987, grad_fn=<SelectBackward0>)\n",
      "[ 1 -1] [1] tensor(0.9985, grad_fn=<SelectBackward0>)\n",
      "[ 1 -1] [1] tensor(0.9982, grad_fn=<SelectBackward0>)\n",
      "[ 1 -1] [1] tensor(0.9980, grad_fn=<SelectBackward0>)\n",
      "[ 1 -1] [1] tensor(0.9979, grad_fn=<SelectBackward0>)\n",
      "[ 1 -1] [1] tensor(0.9979, grad_fn=<SelectBackward0>)\n",
      "[ 1 -1] [1] tensor(0.9979, grad_fn=<SelectBackward0>)\n",
      "####\n",
      "[1 1] [-1] tensor(-0.9983, grad_fn=<SelectBackward0>)\n",
      "[1 1] [-1] tensor(-0.9983, grad_fn=<SelectBackward0>)\n",
      "[1 1] [-1] tensor(-0.9983, grad_fn=<SelectBackward0>)\n",
      "[1 1] [-1] tensor(-0.9983, grad_fn=<SelectBackward0>)\n",
      "[1 1] [-1] tensor(-0.9982, grad_fn=<SelectBackward0>)\n",
      "[1 1] [-1] tensor(-0.9982, grad_fn=<SelectBackward0>)\n",
      "[1 1] [-1] tensor(-0.9983, grad_fn=<SelectBackward0>)\n",
      "[1 1] [-1] tensor(-0.9982, grad_fn=<SelectBackward0>)\n",
      "[1 1] [-1] tensor(-0.9982, grad_fn=<SelectBackward0>)\n",
      "####\n",
      "[ 1 -1] [1] tensor(0.9994, grad_fn=<SelectBackward0>)\n",
      "[ 1 -1] [1] tensor(0.9994, grad_fn=<SelectBackward0>)\n",
      "[ 1 -1] [1] tensor(0.9993, grad_fn=<SelectBackward0>)\n",
      "[ 1 -1] [1] tensor(0.9994, grad_fn=<SelectBackward0>)\n",
      "[ 1 -1] [1] tensor(0.9995, grad_fn=<SelectBackward0>)\n",
      "[ 1 -1] [1] tensor(0.9996, grad_fn=<SelectBackward0>)\n",
      "[ 1 -1] [1] tensor(0.9996, grad_fn=<SelectBackward0>)\n",
      "[ 1 -1] [1] tensor(0.9996, grad_fn=<SelectBackward0>)\n",
      "[ 1 -1] [1] tensor(0.9996, grad_fn=<SelectBackward0>)\n",
      "####\n",
      "[-1  1] [1] tensor(0.9997, grad_fn=<SelectBackward0>)\n",
      "[-1  1] [1] tensor(0.9996, grad_fn=<SelectBackward0>)\n",
      "[-1  1] [1] tensor(0.9996, grad_fn=<SelectBackward0>)\n",
      "[-1  1] [1] tensor(0.9995, grad_fn=<SelectBackward0>)\n",
      "[-1  1] [1] tensor(0.9996, grad_fn=<SelectBackward0>)\n",
      "[-1  1] [1] tensor(0.9996, grad_fn=<SelectBackward0>)\n",
      "[-1  1] [1] tensor(0.9997, grad_fn=<SelectBackward0>)\n",
      "[-1  1] [1] tensor(0.9997, grad_fn=<SelectBackward0>)\n",
      "[-1  1] [1] tensor(0.9997, grad_fn=<SelectBackward0>)\n",
      "####\n",
      "[1 1] [-1] tensor(-0.9997, grad_fn=<SelectBackward0>)\n",
      "[1 1] [-1] tensor(-0.9997, grad_fn=<SelectBackward0>)\n",
      "[1 1] [-1] tensor(-0.9998, grad_fn=<SelectBackward0>)\n",
      "[1 1] [-1] tensor(-0.9998, grad_fn=<SelectBackward0>)\n",
      "[1 1] [-1] tensor(-0.9998, grad_fn=<SelectBackward0>)\n",
      "[1 1] [-1] tensor(-0.9998, grad_fn=<SelectBackward0>)\n",
      "[1 1] [-1] tensor(-0.9998, grad_fn=<SelectBackward0>)\n",
      "[1 1] [-1] tensor(-0.9998, grad_fn=<SelectBackward0>)\n",
      "[1 1] [-1] tensor(-0.9998, grad_fn=<SelectBackward0>)\n",
      "####\n",
      "[-1 -1] [-1] tensor(-0.9997, grad_fn=<SelectBackward0>)\n",
      "[-1 -1] [-1] tensor(-0.9997, grad_fn=<SelectBackward0>)\n",
      "[-1 -1] [-1] tensor(-0.9997, grad_fn=<SelectBackward0>)\n",
      "[-1 -1] [-1] tensor(-0.9998, grad_fn=<SelectBackward0>)\n",
      "[-1 -1] [-1] tensor(-0.9998, grad_fn=<SelectBackward0>)\n",
      "[-1 -1] [-1] tensor(-0.9998, grad_fn=<SelectBackward0>)\n"
     ]
    },
    {
     "name": "stdout",
     "output_type": "stream",
     "text": [
      "[-1 -1] [-1] tensor(-0.9998, grad_fn=<SelectBackward0>)\n",
      "[-1 -1] [-1] tensor(-0.9998, grad_fn=<SelectBackward0>)\n",
      "[-1 -1] [-1] tensor(-0.9998, grad_fn=<SelectBackward0>)\n",
      "####\n",
      "[-1  1] [1] tensor(0.9996, grad_fn=<SelectBackward0>)\n",
      "[-1  1] [1] tensor(0.9995, grad_fn=<SelectBackward0>)\n",
      "[-1  1] [1] tensor(0.9995, grad_fn=<SelectBackward0>)\n",
      "[-1  1] [1] tensor(0.9996, grad_fn=<SelectBackward0>)\n",
      "[-1  1] [1] tensor(0.9996, grad_fn=<SelectBackward0>)\n",
      "[-1  1] [1] tensor(0.9997, grad_fn=<SelectBackward0>)\n",
      "[-1  1] [1] tensor(0.9997, grad_fn=<SelectBackward0>)\n",
      "[-1  1] [1] tensor(0.9997, grad_fn=<SelectBackward0>)\n",
      "[-1  1] [1] tensor(0.9997, grad_fn=<SelectBackward0>)\n",
      "####\n",
      "[-1 -1] [-1] tensor(-0.9997, grad_fn=<SelectBackward0>)\n",
      "[-1 -1] [-1] tensor(-0.9997, grad_fn=<SelectBackward0>)\n",
      "[-1 -1] [-1] tensor(-0.9998, grad_fn=<SelectBackward0>)\n",
      "[-1 -1] [-1] tensor(-0.9998, grad_fn=<SelectBackward0>)\n",
      "[-1 -1] [-1] tensor(-0.9998, grad_fn=<SelectBackward0>)\n",
      "[-1 -1] [-1] tensor(-0.9998, grad_fn=<SelectBackward0>)\n",
      "[-1 -1] [-1] tensor(-0.9998, grad_fn=<SelectBackward0>)\n",
      "[-1 -1] [-1] tensor(-0.9998, grad_fn=<SelectBackward0>)\n",
      "[-1 -1] [-1] tensor(-0.9998, grad_fn=<SelectBackward0>)\n",
      "####\n",
      "[ 1 -1] [1] tensor(0.9996, grad_fn=<SelectBackward0>)\n",
      "[ 1 -1] [1] tensor(0.9996, grad_fn=<SelectBackward0>)\n",
      "[ 1 -1] [1] tensor(0.9996, grad_fn=<SelectBackward0>)\n",
      "[ 1 -1] [1] tensor(0.9996, grad_fn=<SelectBackward0>)\n",
      "[ 1 -1] [1] tensor(0.9997, grad_fn=<SelectBackward0>)\n",
      "[ 1 -1] [1] tensor(0.9997, grad_fn=<SelectBackward0>)\n",
      "[ 1 -1] [1] tensor(0.9997, grad_fn=<SelectBackward0>)\n",
      "[ 1 -1] [1] tensor(0.9997, grad_fn=<SelectBackward0>)\n",
      "[ 1 -1] [1] tensor(0.9998, grad_fn=<SelectBackward0>)\n",
      "####\n",
      "[1 1] [-1] tensor(-0.9997, grad_fn=<SelectBackward0>)\n",
      "[1 1] [-1] tensor(-0.9997, grad_fn=<SelectBackward0>)\n",
      "[1 1] [-1] tensor(-0.9998, grad_fn=<SelectBackward0>)\n",
      "[1 1] [-1] tensor(-0.9998, grad_fn=<SelectBackward0>)\n",
      "[1 1] [-1] tensor(-0.9998, grad_fn=<SelectBackward0>)\n",
      "[1 1] [-1] tensor(-0.9998, grad_fn=<SelectBackward0>)\n",
      "[1 1] [-1] tensor(-0.9998, grad_fn=<SelectBackward0>)\n",
      "[1 1] [-1] tensor(-0.9998, grad_fn=<SelectBackward0>)\n",
      "[1 1] [-1] tensor(-0.9998, grad_fn=<SelectBackward0>)\n",
      "####\n",
      "[ 1 -1] [1] tensor(0.9996, grad_fn=<SelectBackward0>)\n",
      "[ 1 -1] [1] tensor(0.9996, grad_fn=<SelectBackward0>)\n",
      "[ 1 -1] [1] tensor(0.9996, grad_fn=<SelectBackward0>)\n",
      "[ 1 -1] [1] tensor(0.9997, grad_fn=<SelectBackward0>)\n",
      "[ 1 -1] [1] tensor(0.9997, grad_fn=<SelectBackward0>)\n",
      "[ 1 -1] [1] tensor(0.9997, grad_fn=<SelectBackward0>)\n",
      "[ 1 -1] [1] tensor(0.9998, grad_fn=<SelectBackward0>)\n",
      "[ 1 -1] [1] tensor(0.9998, grad_fn=<SelectBackward0>)\n",
      "[ 1 -1] [1] tensor(0.9998, grad_fn=<SelectBackward0>)\n",
      "####\n",
      "[-1  1] [1] tensor(0.9996, grad_fn=<SelectBackward0>)\n",
      "[-1  1] [1] tensor(0.9996, grad_fn=<SelectBackward0>)\n",
      "[-1  1] [1] tensor(0.9997, grad_fn=<SelectBackward0>)\n",
      "[-1  1] [1] tensor(0.9997, grad_fn=<SelectBackward0>)\n",
      "[-1  1] [1] tensor(0.9997, grad_fn=<SelectBackward0>)\n",
      "[-1  1] [1] tensor(0.9998, grad_fn=<SelectBackward0>)\n",
      "[-1  1] [1] tensor(0.9998, grad_fn=<SelectBackward0>)\n",
      "[-1  1] [1] tensor(0.9998, grad_fn=<SelectBackward0>)\n",
      "[-1  1] [1] tensor(0.9998, grad_fn=<SelectBackward0>)\n",
      "####\n",
      "[1 1] [-1] tensor(-0.9998, grad_fn=<SelectBackward0>)\n",
      "[1 1] [-1] tensor(-0.9998, grad_fn=<SelectBackward0>)\n",
      "[1 1] [-1] tensor(-0.9998, grad_fn=<SelectBackward0>)\n",
      "[1 1] [-1] tensor(-0.9999, grad_fn=<SelectBackward0>)\n",
      "[1 1] [-1] tensor(-0.9999, grad_fn=<SelectBackward0>)\n",
      "[1 1] [-1] tensor(-0.9999, grad_fn=<SelectBackward0>)\n",
      "[1 1] [-1] tensor(-0.9999, grad_fn=<SelectBackward0>)\n",
      "[1 1] [-1] tensor(-0.9999, grad_fn=<SelectBackward0>)\n",
      "[1 1] [-1] tensor(-0.9999, grad_fn=<SelectBackward0>)\n",
      "####\n",
      "[-1 -1] [-1] tensor(-0.9998, grad_fn=<SelectBackward0>)\n",
      "[-1 -1] [-1] tensor(-0.9998, grad_fn=<SelectBackward0>)\n",
      "[-1 -1] [-1] tensor(-0.9998, grad_fn=<SelectBackward0>)\n",
      "[-1 -1] [-1] tensor(-0.9999, grad_fn=<SelectBackward0>)\n",
      "[-1 -1] [-1] tensor(-0.9999, grad_fn=<SelectBackward0>)\n",
      "[-1 -1] [-1] tensor(-0.9999, grad_fn=<SelectBackward0>)\n",
      "[-1 -1] [-1] tensor(-0.9999, grad_fn=<SelectBackward0>)\n",
      "[-1 -1] [-1] tensor(-0.9999, grad_fn=<SelectBackward0>)\n",
      "[-1 -1] [-1] tensor(-0.9999, grad_fn=<SelectBackward0>)\n",
      "####\n",
      "\r",
      "1 | Best Rewards : 0   [-1 -1] [-1] tensor(-0.9998, grad_fn=<SelectBackward0>)\n",
      "[-1 -1] [-1] tensor(-0.9998, grad_fn=<SelectBackward0>)\n",
      "[-1 -1] [-1] tensor(-0.9998, grad_fn=<SelectBackward0>)\n",
      "[-1 -1] [-1] tensor(-0.9999, grad_fn=<SelectBackward0>)\n",
      "[-1 -1] [-1] tensor(-0.9999, grad_fn=<SelectBackward0>)\n",
      "[-1 -1] [-1] tensor(-0.9999, grad_fn=<SelectBackward0>)\n",
      "[-1 -1] [-1] tensor(-0.9999, grad_fn=<SelectBackward0>)\n",
      "[-1 -1] [-1] tensor(-0.9999, grad_fn=<SelectBackward0>)\n",
      "[-1 -1] [-1] tensor(-0.9999, grad_fn=<SelectBackward0>)\n",
      "####\n",
      "[ 1 -1] [1] tensor(0.9998, grad_fn=<SelectBackward0>)\n",
      "[ 1 -1] [1] tensor(0.9998, grad_fn=<SelectBackward0>)\n",
      "[ 1 -1] [1] tensor(0.9997, grad_fn=<SelectBackward0>)\n",
      "[ 1 -1] [1] tensor(0.9997, grad_fn=<SelectBackward0>)\n",
      "[ 1 -1] [1] tensor(0.9997, grad_fn=<SelectBackward0>)\n",
      "[ 1 -1] [1] tensor(0.9998, grad_fn=<SelectBackward0>)\n",
      "[ 1 -1] [1] tensor(0.9998, grad_fn=<SelectBackward0>)\n",
      "[ 1 -1] [1] tensor(0.9998, grad_fn=<SelectBackward0>)\n",
      "[ 1 -1] [1] tensor(0.9998, grad_fn=<SelectBackward0>)\n",
      "####\n",
      "[1 1] [-1] tensor(-0.9998, grad_fn=<SelectBackward0>)\n",
      "[1 1] [-1] tensor(-0.9998, grad_fn=<SelectBackward0>)\n",
      "[1 1] [-1] tensor(-0.9998, grad_fn=<SelectBackward0>)\n",
      "[1 1] [-1] tensor(-0.9999, grad_fn=<SelectBackward0>)\n",
      "[1 1] [-1] tensor(-0.9999, grad_fn=<SelectBackward0>)\n",
      "[1 1] [-1] tensor(-0.9999, grad_fn=<SelectBackward0>)\n",
      "[1 1] [-1] tensor(-0.9999, grad_fn=<SelectBackward0>)\n",
      "[1 1] [-1] tensor(-0.9999, grad_fn=<SelectBackward0>)\n",
      "[1 1] [-1] tensor(-0.9999, grad_fn=<SelectBackward0>)\n",
      "####\n",
      "[-1  1] [1] tensor(0.9998, grad_fn=<SelectBackward0>)\n",
      "[-1  1] [1] tensor(0.9998, grad_fn=<SelectBackward0>)\n",
      "[-1  1] [1] tensor(0.9998, grad_fn=<SelectBackward0>)\n",
      "[-1  1] [1] tensor(0.9998, grad_fn=<SelectBackward0>)\n",
      "[-1  1] [1] tensor(0.9998, grad_fn=<SelectBackward0>)\n",
      "[-1  1] [1] tensor(0.9998, grad_fn=<SelectBackward0>)\n",
      "[-1  1] [1] tensor(0.9998, grad_fn=<SelectBackward0>)\n",
      "[-1  1] [1] tensor(0.9998, grad_fn=<SelectBackward0>)\n",
      "[-1  1] [1] tensor(0.9998, grad_fn=<SelectBackward0>)\n",
      "####\n",
      "[1 1] [-1] tensor(-0.9997, grad_fn=<SelectBackward0>)\n",
      "[1 1] [-1] tensor(-0.9998, grad_fn=<SelectBackward0>)\n",
      "[1 1] [-1] tensor(-0.9998, grad_fn=<SelectBackward0>)\n",
      "[1 1] [-1] tensor(-0.9998, grad_fn=<SelectBackward0>)\n",
      "[1 1] [-1] tensor(-0.9998, grad_fn=<SelectBackward0>)\n",
      "[1 1] [-1] tensor(-0.9998, grad_fn=<SelectBackward0>)\n",
      "[1 1] [-1] tensor(-0.9998, grad_fn=<SelectBackward0>)\n",
      "[1 1] [-1] tensor(-0.9998, grad_fn=<SelectBackward0>)\n",
      "[1 1] [-1] tensor(-0.9998, grad_fn=<SelectBackward0>)\n",
      "####\n",
      "[-1  1] [1] tensor(0.9998, grad_fn=<SelectBackward0>)\n",
      "[-1  1] [1] tensor(0.9997, grad_fn=<SelectBackward0>)\n",
      "[-1  1] [1] tensor(0.9997, grad_fn=<SelectBackward0>)\n",
      "[-1  1] [1] tensor(0.9996, grad_fn=<SelectBackward0>)\n",
      "[-1  1] [1] tensor(0.9997, grad_fn=<SelectBackward0>)\n",
      "[-1  1] [1] tensor(0.9997, grad_fn=<SelectBackward0>)\n",
      "[-1  1] [1] tensor(0.9997, grad_fn=<SelectBackward0>)\n",
      "[-1  1] [1] tensor(0.9997, grad_fn=<SelectBackward0>)\n",
      "[-1  1] [1] tensor(0.9997, grad_fn=<SelectBackward0>)\n",
      "####\n",
      "[-1 -1] [-1] tensor(-0.9997, grad_fn=<SelectBackward0>)\n",
      "[-1 -1] [-1] tensor(-0.9998, grad_fn=<SelectBackward0>)\n",
      "[-1 -1] [-1] tensor(-0.9998, grad_fn=<SelectBackward0>)\n",
      "[-1 -1] [-1] tensor(-0.9998, grad_fn=<SelectBackward0>)\n",
      "[-1 -1] [-1] tensor(-0.9999, grad_fn=<SelectBackward0>)\n",
      "[-1 -1] [-1] tensor(-0.9999, grad_fn=<SelectBackward0>)\n",
      "[-1 -1] [-1] tensor(-0.9999, grad_fn=<SelectBackward0>)\n",
      "[-1 -1] [-1] tensor(-0.9999, grad_fn=<SelectBackward0>)\n",
      "[-1 -1] [-1] tensor(-0.9999, grad_fn=<SelectBackward0>)\n",
      "####\n",
      "[ 1 -1] [1] tensor(0.9998, grad_fn=<SelectBackward0>)\n",
      "[ 1 -1] [1] tensor(0.9998, grad_fn=<SelectBackward0>)\n",
      "[ 1 -1] [1] tensor(0.9997, grad_fn=<SelectBackward0>)\n",
      "[ 1 -1] [1] tensor(0.9997, grad_fn=<SelectBackward0>)\n",
      "[ 1 -1] [1] tensor(0.9997, grad_fn=<SelectBackward0>)\n",
      "[ 1 -1] [1] tensor(0.9997, grad_fn=<SelectBackward0>)\n",
      "[ 1 -1] [1] tensor(0.9998, grad_fn=<SelectBackward0>)\n",
      "[ 1 -1] [1] tensor(0.9998, grad_fn=<SelectBackward0>)\n",
      "[ 1 -1] [1] tensor(0.9998, grad_fn=<SelectBackward0>)\n",
      "####\n",
      "[-1 -1] [-1] tensor(-0.9975, grad_fn=<SelectBackward0>)\n",
      "[-1 -1] [-1] tensor(-0.9976, grad_fn=<SelectBackward0>)\n",
      "[-1 -1] [-1] tensor(-0.9976, grad_fn=<SelectBackward0>)\n",
      "[-1 -1] [-1] tensor(-0.9975, grad_fn=<SelectBackward0>)\n",
      "[-1 -1] [-1] tensor(-0.9974, grad_fn=<SelectBackward0>)\n"
     ]
    },
    {
     "name": "stdout",
     "output_type": "stream",
     "text": [
      "[-1 -1] [-1] tensor(-0.9974, grad_fn=<SelectBackward0>)\n",
      "[-1 -1] [-1] tensor(-0.9974, grad_fn=<SelectBackward0>)\n",
      "[-1 -1] [-1] tensor(-0.9974, grad_fn=<SelectBackward0>)\n",
      "[-1 -1] [-1] tensor(-0.9974, grad_fn=<SelectBackward0>)\n",
      "####\n"
     ]
    },
    {
     "ename": "KeyboardInterrupt",
     "evalue": "",
     "output_type": "error",
     "traceback": [
      "\u001b[1;31m---------------------------------------------------------------------------\u001b[0m",
      "\u001b[1;31mKeyboardInterrupt\u001b[0m                         Traceback (most recent call last)",
      "\u001b[1;32m<ipython-input-36-5984ac0f20ef>\u001b[0m in \u001b[0;36m<module>\u001b[1;34m\u001b[0m\n\u001b[0;32m     54\u001b[0m \u001b[1;33m\u001b[0m\u001b[0m\n\u001b[0;32m     55\u001b[0m \u001b[1;32mfor\u001b[0m \u001b[0me\u001b[0m \u001b[1;32min\u001b[0m \u001b[0mrange\u001b[0m\u001b[1;33m(\u001b[0m\u001b[1;36m1000\u001b[0m\u001b[1;33m)\u001b[0m\u001b[1;33m:\u001b[0m\u001b[1;33m\u001b[0m\u001b[1;33m\u001b[0m\u001b[0m\n\u001b[1;32m---> 56\u001b[1;33m     \u001b[0mrules\u001b[0m\u001b[1;33m,\u001b[0m \u001b[0mbest_reward\u001b[0m \u001b[1;33m=\u001b[0m \u001b[0mevaluate_population\u001b[0m\u001b[1;33m(\u001b[0m\u001b[0mrules\u001b[0m\u001b[1;33m,\u001b[0m \u001b[0mgen\u001b[0m\u001b[1;33m)\u001b[0m\u001b[1;33m\u001b[0m\u001b[1;33m\u001b[0m\u001b[0m\n\u001b[0m\u001b[0;32m     57\u001b[0m \u001b[1;33m\u001b[0m\u001b[0m\n\u001b[0;32m     58\u001b[0m     \u001b[0mprint\u001b[0m\u001b[1;33m(\u001b[0m\u001b[1;34mf\"\\r{e} | Best Rewards : {best_reward}   \"\u001b[0m\u001b[1;33m,\u001b[0m \u001b[0mend\u001b[0m\u001b[1;33m=\u001b[0m\u001b[1;34m\"\"\u001b[0m\u001b[1;33m)\u001b[0m\u001b[1;33m\u001b[0m\u001b[1;33m\u001b[0m\u001b[0m\n",
      "\u001b[1;32m<ipython-input-36-5984ac0f20ef>\u001b[0m in \u001b[0;36mevaluate_population\u001b[1;34m(rules, gen)\u001b[0m\n\u001b[0;32m     39\u001b[0m     \u001b[0mrewards\u001b[0m \u001b[1;33m=\u001b[0m \u001b[0mnp\u001b[0m\u001b[1;33m.\u001b[0m\u001b[0marray\u001b[0m\u001b[1;33m(\u001b[0m\u001b[1;33m[\u001b[0m\u001b[1;36m0\u001b[0m\u001b[1;33m]\u001b[0m \u001b[1;33m*\u001b[0m \u001b[0mpopulation_size\u001b[0m\u001b[1;33m)\u001b[0m\u001b[1;33m\u001b[0m\u001b[1;33m\u001b[0m\u001b[0m\n\u001b[0;32m     40\u001b[0m     \u001b[1;32mfor\u001b[0m  \u001b[0midx\u001b[0m\u001b[1;33m,\u001b[0m \u001b[0mr\u001b[0m  \u001b[1;32min\u001b[0m \u001b[0menumerate\u001b[0m\u001b[1;33m(\u001b[0m\u001b[0mrules\u001b[0m\u001b[1;33m)\u001b[0m\u001b[1;33m:\u001b[0m\u001b[1;33m\u001b[0m\u001b[1;33m\u001b[0m\u001b[0m\n\u001b[1;32m---> 41\u001b[1;33m         \u001b[0mrewards\u001b[0m\u001b[1;33m[\u001b[0m\u001b[0midx\u001b[0m\u001b[1;33m]\u001b[0m \u001b[1;33m=\u001b[0m \u001b[1;33m(\u001b[0m\u001b[0mevaluate_rule\u001b[0m\u001b[1;33m(\u001b[0m\u001b[0mr\u001b[0m\u001b[1;33m,\u001b[0m \u001b[0mgen\u001b[0m\u001b[1;33m)\u001b[0m\u001b[1;33m)\u001b[0m\u001b[1;33m\u001b[0m\u001b[1;33m\u001b[0m\u001b[0m\n\u001b[0m\u001b[0;32m     42\u001b[0m \u001b[1;33m\u001b[0m\u001b[0m\n\u001b[0;32m     43\u001b[0m \u001b[1;33m\u001b[0m\u001b[0m\n",
      "\u001b[1;32m<ipython-input-36-5984ac0f20ef>\u001b[0m in \u001b[0;36mevaluate_rule\u001b[1;34m(r, gen)\u001b[0m\n\u001b[0;32m     24\u001b[0m             \u001b[0mgrid\u001b[0m \u001b[1;33m=\u001b[0m \u001b[0minsert_io\u001b[0m\u001b[1;33m(\u001b[0m\u001b[0mgrid\u001b[0m\u001b[1;33m,\u001b[0m \u001b[0mtorch\u001b[0m\u001b[1;33m.\u001b[0m\u001b[0mtensor\u001b[0m\u001b[1;33m(\u001b[0m\u001b[0mn_in\u001b[0m\u001b[1;33m)\u001b[0m\u001b[1;33m,\u001b[0m \u001b[0mtorch\u001b[0m\u001b[1;33m.\u001b[0m\u001b[0mtensor\u001b[0m\u001b[1;33m(\u001b[0m\u001b[0mn_out\u001b[0m\u001b[1;33m)\u001b[0m\u001b[1;33m)\u001b[0m\u001b[1;33m\u001b[0m\u001b[1;33m\u001b[0m\u001b[0m\n\u001b[0;32m     25\u001b[0m             \u001b[1;31m#pretty_print(grid)\u001b[0m\u001b[1;33m\u001b[0m\u001b[1;33m\u001b[0m\u001b[1;33m\u001b[0m\u001b[0m\n\u001b[1;32m---> 26\u001b[1;33m             \u001b[0mgrid\u001b[0m \u001b[1;33m=\u001b[0m \u001b[0mr\u001b[0m\u001b[1;33m.\u001b[0m\u001b[0mapply_rule\u001b[0m\u001b[1;33m(\u001b[0m\u001b[0mgrid\u001b[0m\u001b[1;33m)\u001b[0m\u001b[1;33m\u001b[0m\u001b[1;33m\u001b[0m\u001b[0m\n\u001b[0m\u001b[0;32m     27\u001b[0m             \u001b[1;31m#print()\u001b[0m\u001b[1;33m\u001b[0m\u001b[1;33m\u001b[0m\u001b[1;33m\u001b[0m\u001b[0m\n\u001b[0;32m     28\u001b[0m             \u001b[1;31m#print()\u001b[0m\u001b[1;33m\u001b[0m\u001b[1;33m\u001b[0m\u001b[1;33m\u001b[0m\u001b[0m\n",
      "\u001b[1;32m<ipython-input-3-868836a2f5e3>\u001b[0m in \u001b[0;36mapply_rule\u001b[1;34m(self, x)\u001b[0m\n\u001b[0;32m     55\u001b[0m         \u001b[1;31m#print(x)\u001b[0m\u001b[1;33m\u001b[0m\u001b[1;33m\u001b[0m\u001b[1;33m\u001b[0m\u001b[0m\n\u001b[0;32m     56\u001b[0m         \u001b[0mx\u001b[0m \u001b[1;33m=\u001b[0m \u001b[0mx\u001b[0m\u001b[1;33m.\u001b[0m\u001b[0mreshape\u001b[0m\u001b[1;33m(\u001b[0m\u001b[1;33m[\u001b[0m\u001b[0mx\u001b[0m\u001b[1;33m.\u001b[0m\u001b[0mshape\u001b[0m\u001b[1;33m[\u001b[0m\u001b[1;36m0\u001b[0m\u001b[1;33m]\u001b[0m\u001b[1;33m,\u001b[0m \u001b[0mx\u001b[0m\u001b[1;33m.\u001b[0m\u001b[0mshape\u001b[0m\u001b[1;33m[\u001b[0m\u001b[1;36m1\u001b[0m\u001b[1;33m]\u001b[0m\u001b[1;33m,\u001b[0m \u001b[0mx\u001b[0m\u001b[1;33m.\u001b[0m\u001b[0mshape\u001b[0m\u001b[1;33m[\u001b[0m\u001b[1;36m2\u001b[0m\u001b[1;33m]\u001b[0m\u001b[1;33m*\u001b[0m \u001b[0mx\u001b[0m\u001b[1;33m.\u001b[0m\u001b[0mshape\u001b[0m\u001b[1;33m[\u001b[0m\u001b[1;36m3\u001b[0m\u001b[1;33m]\u001b[0m \u001b[1;33m*\u001b[0m \u001b[0mx\u001b[0m\u001b[1;33m.\u001b[0m\u001b[0mshape\u001b[0m\u001b[1;33m[\u001b[0m\u001b[1;36m4\u001b[0m\u001b[1;33m]\u001b[0m\u001b[1;33m]\u001b[0m\u001b[1;33m)\u001b[0m\u001b[1;33m\u001b[0m\u001b[1;33m\u001b[0m\u001b[0m\n\u001b[1;32m---> 57\u001b[1;33m         \u001b[0mx\u001b[0m \u001b[1;33m=\u001b[0m \u001b[0mself\u001b[0m\u001b[1;33m.\u001b[0m\u001b[0mforward\u001b[0m\u001b[1;33m(\u001b[0m\u001b[0mx\u001b[0m\u001b[1;33m)\u001b[0m\u001b[1;33m\u001b[0m\u001b[1;33m\u001b[0m\u001b[0m\n\u001b[0m\u001b[0;32m     58\u001b[0m         \u001b[1;31m#print(x.shape)\u001b[0m\u001b[1;33m\u001b[0m\u001b[1;33m\u001b[0m\u001b[1;33m\u001b[0m\u001b[0m\n\u001b[0;32m     59\u001b[0m \u001b[1;33m\u001b[0m\u001b[0m\n",
      "\u001b[1;32m<ipython-input-3-868836a2f5e3>\u001b[0m in \u001b[0;36mforward\u001b[1;34m(self, x)\u001b[0m\n\u001b[0;32m     13\u001b[0m \u001b[1;33m\u001b[0m\u001b[0m\n\u001b[0;32m     14\u001b[0m         \u001b[0mx\u001b[0m \u001b[1;33m=\u001b[0m \u001b[0mself\u001b[0m\u001b[1;33m.\u001b[0m\u001b[0mfc2\u001b[0m\u001b[1;33m(\u001b[0m\u001b[0mx\u001b[0m\u001b[1;33m)\u001b[0m\u001b[1;33m\u001b[0m\u001b[1;33m\u001b[0m\u001b[0m\n\u001b[1;32m---> 15\u001b[1;33m         \u001b[0mx\u001b[0m \u001b[1;33m=\u001b[0m \u001b[0mself\u001b[0m\u001b[1;33m.\u001b[0m\u001b[0mfc3\u001b[0m\u001b[1;33m(\u001b[0m\u001b[0mx\u001b[0m\u001b[1;33m)\u001b[0m\u001b[1;33m\u001b[0m\u001b[1;33m\u001b[0m\u001b[0m\n\u001b[0m\u001b[0;32m     16\u001b[0m         \u001b[0mx\u001b[0m \u001b[1;33m=\u001b[0m \u001b[0mtorch\u001b[0m\u001b[1;33m.\u001b[0m\u001b[0mtanh\u001b[0m\u001b[1;33m(\u001b[0m\u001b[0mx\u001b[0m\u001b[1;33m)\u001b[0m\u001b[1;33m\u001b[0m\u001b[1;33m\u001b[0m\u001b[0m\n\u001b[0;32m     17\u001b[0m         \u001b[1;32mreturn\u001b[0m \u001b[0mx\u001b[0m\u001b[1;31m#.squeeze(-1)\u001b[0m\u001b[1;33m\u001b[0m\u001b[1;33m\u001b[0m\u001b[0m\n",
      "\u001b[1;32m~\\AppData\\Roaming\\Python\\Python38\\site-packages\\torch\\nn\\modules\\module.py\u001b[0m in \u001b[0;36m_call_impl\u001b[1;34m(self, *input, **kwargs)\u001b[0m\n\u001b[0;32m   1100\u001b[0m         if not (self._backward_hooks or self._forward_hooks or self._forward_pre_hooks or _global_backward_hooks\n\u001b[0;32m   1101\u001b[0m                 or _global_forward_hooks or _global_forward_pre_hooks):\n\u001b[1;32m-> 1102\u001b[1;33m             \u001b[1;32mreturn\u001b[0m \u001b[0mforward_call\u001b[0m\u001b[1;33m(\u001b[0m\u001b[1;33m*\u001b[0m\u001b[0minput\u001b[0m\u001b[1;33m,\u001b[0m \u001b[1;33m**\u001b[0m\u001b[0mkwargs\u001b[0m\u001b[1;33m)\u001b[0m\u001b[1;33m\u001b[0m\u001b[1;33m\u001b[0m\u001b[0m\n\u001b[0m\u001b[0;32m   1103\u001b[0m         \u001b[1;31m# Do not call functions when jit is used\u001b[0m\u001b[1;33m\u001b[0m\u001b[1;33m\u001b[0m\u001b[1;33m\u001b[0m\u001b[0m\n\u001b[0;32m   1104\u001b[0m         \u001b[0mfull_backward_hooks\u001b[0m\u001b[1;33m,\u001b[0m \u001b[0mnon_full_backward_hooks\u001b[0m \u001b[1;33m=\u001b[0m \u001b[1;33m[\u001b[0m\u001b[1;33m]\u001b[0m\u001b[1;33m,\u001b[0m \u001b[1;33m[\u001b[0m\u001b[1;33m]\u001b[0m\u001b[1;33m\u001b[0m\u001b[1;33m\u001b[0m\u001b[0m\n",
      "\u001b[1;32m~\\AppData\\Roaming\\Python\\Python38\\site-packages\\torch\\nn\\modules\\linear.py\u001b[0m in \u001b[0;36mforward\u001b[1;34m(self, input)\u001b[0m\n\u001b[0;32m    101\u001b[0m \u001b[1;33m\u001b[0m\u001b[0m\n\u001b[0;32m    102\u001b[0m     \u001b[1;32mdef\u001b[0m \u001b[0mforward\u001b[0m\u001b[1;33m(\u001b[0m\u001b[0mself\u001b[0m\u001b[1;33m,\u001b[0m \u001b[0minput\u001b[0m\u001b[1;33m:\u001b[0m \u001b[0mTensor\u001b[0m\u001b[1;33m)\u001b[0m \u001b[1;33m->\u001b[0m \u001b[0mTensor\u001b[0m\u001b[1;33m:\u001b[0m\u001b[1;33m\u001b[0m\u001b[1;33m\u001b[0m\u001b[0m\n\u001b[1;32m--> 103\u001b[1;33m         \u001b[1;32mreturn\u001b[0m \u001b[0mF\u001b[0m\u001b[1;33m.\u001b[0m\u001b[0mlinear\u001b[0m\u001b[1;33m(\u001b[0m\u001b[0minput\u001b[0m\u001b[1;33m,\u001b[0m \u001b[0mself\u001b[0m\u001b[1;33m.\u001b[0m\u001b[0mweight\u001b[0m\u001b[1;33m,\u001b[0m \u001b[0mself\u001b[0m\u001b[1;33m.\u001b[0m\u001b[0mbias\u001b[0m\u001b[1;33m)\u001b[0m\u001b[1;33m\u001b[0m\u001b[1;33m\u001b[0m\u001b[0m\n\u001b[0m\u001b[0;32m    104\u001b[0m \u001b[1;33m\u001b[0m\u001b[0m\n\u001b[0;32m    105\u001b[0m     \u001b[1;32mdef\u001b[0m \u001b[0mextra_repr\u001b[0m\u001b[1;33m(\u001b[0m\u001b[0mself\u001b[0m\u001b[1;33m)\u001b[0m \u001b[1;33m->\u001b[0m \u001b[0mstr\u001b[0m\u001b[1;33m:\u001b[0m\u001b[1;33m\u001b[0m\u001b[1;33m\u001b[0m\u001b[0m\n",
      "\u001b[1;32m~\\AppData\\Roaming\\Python\\Python38\\site-packages\\torch\\nn\\functional.py\u001b[0m in \u001b[0;36mlinear\u001b[1;34m(input, weight, bias)\u001b[0m\n\u001b[0;32m   1846\u001b[0m     \u001b[1;32mif\u001b[0m \u001b[0mhas_torch_function_variadic\u001b[0m\u001b[1;33m(\u001b[0m\u001b[0minput\u001b[0m\u001b[1;33m,\u001b[0m \u001b[0mweight\u001b[0m\u001b[1;33m,\u001b[0m \u001b[0mbias\u001b[0m\u001b[1;33m)\u001b[0m\u001b[1;33m:\u001b[0m\u001b[1;33m\u001b[0m\u001b[1;33m\u001b[0m\u001b[0m\n\u001b[0;32m   1847\u001b[0m         \u001b[1;32mreturn\u001b[0m \u001b[0mhandle_torch_function\u001b[0m\u001b[1;33m(\u001b[0m\u001b[0mlinear\u001b[0m\u001b[1;33m,\u001b[0m \u001b[1;33m(\u001b[0m\u001b[0minput\u001b[0m\u001b[1;33m,\u001b[0m \u001b[0mweight\u001b[0m\u001b[1;33m,\u001b[0m \u001b[0mbias\u001b[0m\u001b[1;33m)\u001b[0m\u001b[1;33m,\u001b[0m \u001b[0minput\u001b[0m\u001b[1;33m,\u001b[0m \u001b[0mweight\u001b[0m\u001b[1;33m,\u001b[0m \u001b[0mbias\u001b[0m\u001b[1;33m=\u001b[0m\u001b[0mbias\u001b[0m\u001b[1;33m)\u001b[0m\u001b[1;33m\u001b[0m\u001b[1;33m\u001b[0m\u001b[0m\n\u001b[1;32m-> 1848\u001b[1;33m     \u001b[1;32mreturn\u001b[0m \u001b[0mtorch\u001b[0m\u001b[1;33m.\u001b[0m\u001b[0m_C\u001b[0m\u001b[1;33m.\u001b[0m\u001b[0m_nn\u001b[0m\u001b[1;33m.\u001b[0m\u001b[0mlinear\u001b[0m\u001b[1;33m(\u001b[0m\u001b[0minput\u001b[0m\u001b[1;33m,\u001b[0m \u001b[0mweight\u001b[0m\u001b[1;33m,\u001b[0m \u001b[0mbias\u001b[0m\u001b[1;33m)\u001b[0m\u001b[1;33m\u001b[0m\u001b[1;33m\u001b[0m\u001b[0m\n\u001b[0m\u001b[0;32m   1849\u001b[0m \u001b[1;33m\u001b[0m\u001b[0m\n\u001b[0;32m   1850\u001b[0m \u001b[1;33m\u001b[0m\u001b[0m\n",
      "\u001b[1;31mKeyboardInterrupt\u001b[0m: "
     ]
    }
   ],
   "source": [
    "n_samples = 10\n",
    "time_per_sample = 15\n",
    "inputs = 2\n",
    "outputs = 1\n",
    "#layers = [4,4,4]\n",
    "n_layers = 3\n",
    "layer_size = 4\n",
    "cell_state_size = 2\n",
    "\n",
    "# = Rule(cell_state_size = cell_state_size)\n",
    "\n",
    "population_size = 20\n",
    "\n",
    "\n",
    "\n",
    "def evaluate_rule(r, gen):\n",
    "    grid = r.build_grid(5,5)\n",
    "\n",
    "    reward = 0\n",
    "    for s in range(n_samples):\n",
    "        n_in, n_out = next(gen)\n",
    "        \n",
    "        for t in range(time_per_sample):\n",
    "            grid = insert_io(grid, torch.tensor(n_in), torch.tensor(n_out))\n",
    "            #pretty_print(grid)\n",
    "            grid = r.apply_rule(grid)\n",
    "            #print()\n",
    "            #print()\n",
    "            n_predicted = grid[3][5][0]\n",
    "            if t > 5:\n",
    "                reward += -torch.abs(torch.tensor(n_out) - n_predicted)\n",
    "                print(n_in, n_out, n_predicted)\n",
    "        print(\"####\")\n",
    "        break\n",
    "    return reward.detach().numpy()\n",
    "\n",
    "\n",
    "def evaluate_population(rules, gen):\n",
    "    rewards = np.array([0] * population_size)\n",
    "    for  idx, r  in enumerate(rules):\n",
    "        rewards[idx] = (evaluate_rule(r, gen))\n",
    "        \n",
    "        \n",
    "    arg_rewards = np.argsort(rewards)[::-1]\n",
    "    #print(rewards)\n",
    "    new_rules = []\n",
    "    for r in arg_rewards[0:5]:\n",
    "        for i in range(4):\n",
    "            new_rules.append(rules[r].gen_child())\n",
    "            \n",
    "    return new_rules, rewards[arg_rewards[0]]\n",
    "\n",
    "gen = gate_sample_gen(gate=\"XOR\")\n",
    "\n",
    "for e in range(1000):\n",
    "    rules, best_reward = evaluate_population(rules, gen)\n",
    "    \n",
    "    print(f\"\\r{e} | Best Rewards : {best_reward}   \", end=\"\")\n",
    "#print(len(new_rules))\n",
    "    "
   ]
  },
  {
   "cell_type": "code",
   "execution_count": 65,
   "id": "5220ffcf",
   "metadata": {},
   "outputs": [
    {
     "name": "stdout",
     "output_type": "stream",
     "text": [
      "[1 1] [1] tensor(0.9997, grad_fn=<SelectBackward0>)\n",
      "[1 1] [1] tensor(0.9997, grad_fn=<SelectBackward0>)\n",
      "[1 1] [1] tensor(0.9996, grad_fn=<SelectBackward0>)\n",
      "[1 1] [1] tensor(0.9997, grad_fn=<SelectBackward0>)\n",
      "[1 1] [1] tensor(0.9997, grad_fn=<SelectBackward0>)\n",
      "[1 1] [1] tensor(0.9997, grad_fn=<SelectBackward0>)\n",
      "[1 1] [1] tensor(0.9997, grad_fn=<SelectBackward0>)\n",
      "[1 1] [1] tensor(0.9997, grad_fn=<SelectBackward0>)\n",
      "[1 1] [1] tensor(0.9997, grad_fn=<SelectBackward0>)\n",
      "####\n"
     ]
    },
    {
     "data": {
      "text/plain": [
       "array([-0.00279504], dtype=float32)"
      ]
     },
     "execution_count": 65,
     "metadata": {},
     "output_type": "execute_result"
    }
   ],
   "source": [
    "gen = gate_sample_gen(gate=\"AND\")\n",
    "evaluate_rule(rules[0], gen)"
   ]
  },
  {
   "cell_type": "raw",
   "id": "6766641e",
   "metadata": {},
   "source": [
    "time_on_sample = 20\n",
    "n_samples = 10\n",
    "\n",
    "gen = gate_sample_gen()\n",
    "for _ in range(n_samples):\n",
    "    n_input, n_output = next(gen)\n",
    "    for t in range(time_on_sample):\n",
    "        print(n_input,n_output)"
   ]
  },
  {
   "cell_type": "code",
   "execution_count": 233,
   "id": "bf69ed89",
   "metadata": {
    "scrolled": true
   },
   "outputs": [
    {
     "name": "stdout",
     "output_type": "stream",
     "text": [
      "torch.Size([7, 7, 4])\n",
      "[0.000 0.000 ...][0.000 0.000 ...][0.000 0.000 ...][0.000 0.000 ...][0.000 0.000 ...][0.000 0.000 ...][0.000 0.000 ...]\n",
      "[0.000 0.000 ...][0.840 0.840 ...][0.555 0.555 ...][0.722 0.722 ...][0.462 0.462 ...][0.438 0.438 ...][0.000 0.000 ...]\n",
      "[0.000 0.000 ...][0.009 0.009 ...][0.288 0.288 ...][0.795 0.795 ...][0.537 0.537 ...][0.391 0.391 ...][0.000 0.000 ...]\n",
      "[0.000 0.000 ...][0.242 0.242 ...][0.447 0.447 ...][0.687 0.687 ...][0.367 0.367 ...][0.716 0.716 ...][0.000 0.000 ...]\n",
      "[0.000 0.000 ...][0.721 0.721 ...][0.056 0.056 ...][0.565 0.565 ...][0.448 0.448 ...][0.569 0.569 ...][0.000 0.000 ...]\n",
      "[0.000 0.000 ...][0.228 0.228 ...][0.282 0.282 ...][0.081 0.081 ...][0.816 0.816 ...][0.994 0.994 ...][0.000 0.000 ...]\n",
      "[0.000 0.000 ...][0.000 0.000 ...][0.000 0.000 ...][0.000 0.000 ...][0.000 0.000 ...][0.000 0.000 ...][0.000 0.000 ...]\n"
     ]
    }
   ],
   "source": [
    "a=F.pad(torch.rand([5,5]),(1,1,1,1), \"constant\", 0).unsqueeze(-1).repeat([1,1,4])\n",
    "\n",
    "print(a.shape)\n",
    "pretty_print(a)\n",
    "#print(a.unsqueeze(-1))\n",
    "#print(np.expand_dims(a,- 1))"
   ]
  },
  {
   "cell_type": "code",
   "execution_count": 28,
   "id": "cf859c69",
   "metadata": {
    "scrolled": true
   },
   "outputs": [
    {
     "name": "stdout",
     "output_type": "stream",
     "text": [
      "torch.Size([7, 7, 2])\n",
      "[0.000 0.000][0.000 0.000][0.000 0.000][0.000 0.000][0.000 0.000][0.000 0.000][0.000 0.000]\n",
      "[0.000 0.000][1.000 1.000][2.000 2.000][3.000 3.000][4.000 4.000][5.000 5.000][0.000 0.000]\n",
      "[0.000 0.000][6.000 6.000][7.000 7.000][8.000 8.000][9.000 9.000][10.000 10.00...][0.000 0.000]\n",
      "[0.000 0.000][11.000 11.00...][12.000 12.00...][13.000 13.00...][14.000 14.00...][15.000 15.00...][0.000 0.000]\n",
      "[0.000 0.000][16.000 16.00...][17.000 17.00...][18.000 18.00...][19.000 19.00...][20.000 20.00...][0.000 0.000]\n",
      "[0.000 0.000][21.000 21.00...][22.000 22.00...][23.000 23.00...][24.000 24.00...][25.000 25.00...][0.000 0.000]\n",
      "[0.000 0.000][0.000 0.000][0.000 0.000][0.000 0.000][0.000 0.000][0.000 0.000][0.000 0.000]\n"
     ]
    }
   ],
   "source": [
    "inputs = 2\n",
    "outputs = 1\n",
    "#layers = [4,4,4]\n",
    "n_layers = 3\n",
    "layer_size = 4\n",
    "cell_state_size = 2\n",
    "\n",
    "#cells = torch.zeros([layer_size + 2, n_layers + 1, cell_state_size])\n",
    "cells = torch.stack(\n",
    "        [F.pad(torch.arange(25).reshape(5,5).float() + 1,(1,1,1,1), \"constant\", 0).unsqueeze(-1) for _ in range(cell_state_size)]\n",
    "    ,-1).squeeze(-2)\n",
    "\n",
    "#cells = torch.zeros([7,7,4])\n",
    "print(cells.shape)\n",
    "pretty_print(cells)"
   ]
  },
  {
   "cell_type": "code",
   "execution_count": 29,
   "id": "e9be09c0",
   "metadata": {
    "scrolled": true
   },
   "outputs": [
    {
     "name": "stdout",
     "output_type": "stream",
     "text": [
      "torch.Size([5, 5, 18])\n"
     ]
    }
   ],
   "source": [
    "#pretty_print(cells.unfold(0,2,1))\n",
    "unfolded = cells.unfold(0,3,1).unfold(1,3,1)\n",
    "unfolded = unfolded.reshape([unfolded.shape[0], unfolded.shape[1], unfolded.shape[2]* unfolded.shape[3] * unfolded.shape[4]])\n",
    "print(unfolded.shape)\n",
    "\n",
    "#for i in cells.unfold(0,3,1).unfold(1,3,1):\n",
    "#    print(i)"
   ]
  },
  {
   "cell_type": "code",
   "execution_count": 32,
   "id": "26cdaab8",
   "metadata": {
    "scrolled": true
   },
   "outputs": [
    {
     "name": "stdout",
     "output_type": "stream",
     "text": [
      "[0.000 0.000][0.000 0.000][0.000 0.000][0.000 0.000][0.000 0.000][0.000 0.000][0.000 0.000]\n",
      "[0.000 0.000][0.323 0.287][0.156 0.553][0.213 0.607][0.269 0.656][0.642 0.380][0.000 0.000]\n",
      "[0.000 0.000][0.631 0.830][0.282 0.925][0.246 0.958][0.209 0.977][0.752 0.692][0.000 0.000]\n",
      "[0.000 0.000][0.795 0.993][0.095 0.996][0.056 0.998][0.017 0.999][0.808 0.863][0.000 0.000]\n",
      "[0.000 0.000][0.891 1.000][0.099 1.000][0.138 1.000][0.176 1.000][0.853 0.942][0.000 0.000]\n",
      "[0.000 0.000][0.401 1.000][0.435 0.999][0.471 1.000][0.506 1.000][0.346 0.714][0.000 0.000]\n",
      "[0.000 0.000][0.000 0.000][0.000 0.000][0.000 0.000][0.000 0.000][0.000 0.000][0.000 0.000]\n"
     ]
    }
   ],
   "source": [
    "r = Rule(cell_state_size = cell_state_size)\n",
    "#r.set_params(torch.ones(r.get_params().shape))\n",
    "x = r.forward(unfolded)\n",
    "\n",
    "x_padded = torch.stack(\n",
    "        [F.pad(x[:,:,i],(1,1,1,1), \"constant\", 0).unsqueeze(-1) for i in range(cell_state_size)]\n",
    "    ,-1).squeeze(-2)\n",
    "\n",
    "pretty_print(x_padded)"
   ]
  },
  {
   "cell_type": "code",
   "execution_count": 159,
   "id": "6e6bbda3",
   "metadata": {},
   "outputs": [],
   "source": [
    "torch.stack(\n",
    "        [F.pad(torch.ones([5,5]),(1,1,1,1), \"constant\", 0).unsqueeze(-1) for _ in range(cell_state_size)]\n",
    "    ,-1).squeeze(-2)"
   ]
  },
  {
   "cell_type": "code",
   "execution_count": 6,
   "id": "d552e16a",
   "metadata": {},
   "outputs": [],
   "source": [
    "\n",
    "#pretty_print(a)"
   ]
  },
  {
   "cell_type": "code",
   "execution_count": 105,
   "id": "6d8a0191",
   "metadata": {},
   "outputs": [
    {
     "name": "stdout",
     "output_type": "stream",
     "text": [
      "torch.Size([7, 7, 4])\n"
     ]
    }
   ],
   "source": [
    "print(a.shape)"
   ]
  },
  {
   "cell_type": "code",
   "execution_count": 106,
   "id": "ddf13141",
   "metadata": {},
   "outputs": [
    {
     "name": "stdout",
     "output_type": "stream",
     "text": [
      "torch.Size([4, 6, 1])\n"
     ]
    }
   ],
   "source": [
    "print(cells.shape)"
   ]
  },
  {
   "cell_type": "code",
   "execution_count": 116,
   "id": "3d5ca33a",
   "metadata": {},
   "outputs": [
    {
     "name": "stdout",
     "output_type": "stream",
     "text": [
      "[0.000][0.000][0.000][0.000][0.000][0.000][0.000]\n",
      "[0.000][0.083][0.398][0.856][0.789][0.890][0.000]\n",
      "[0.000][0.737][0.392][0.719][0.461][0.122][0.000]\n",
      "[0.000][0.287][0.237][0.742][0.180][0.178][0.000]\n",
      "[0.000][0.609][0.424][0.511][0.561][0.551][0.000]\n",
      "[0.000][0.969][0.010][0.980][0.304][0.945][0.000]\n",
      "[0.000][0.000][0.000][0.000][0.000][0.000][0.000]\n"
     ]
    }
   ],
   "source": [
    "a=\n",
    "pretty_print(a)"
   ]
  },
  {
   "cell_type": "code",
   "execution_count": 129,
   "id": "f71d1707",
   "metadata": {},
   "outputs": [
    {
     "name": "stdout",
     "output_type": "stream",
     "text": [
      "[0.000 0.000 ...][0.000 0.000 ...][0.000 0.000 ...][0.000 0.000 ...][0.000 0.000 ...][0.000 0.000 ...][0.000 0.000 ...]\n",
      "[0.000 0.000 ...][0.467 0.550 ...][0.877 0.327 ...][0.486 0.906 ...][0.168 0.100 ...][0.558 0.601 ...][0.000 0.000 ...]\n",
      "[0.000 0.000 ...][0.552 0.056 ...][0.882 0.758 ...][0.749 0.937 ...][0.440 0.158 ...][0.893 0.737 ...][0.000 0.000 ...]\n",
      "[0.000 0.000 ...][0.201 0.587 ...][0.034 0.385 ...][0.763 0.541 ...][0.352 0.996 ...][0.506 0.457 ...][0.000 0.000 ...]\n",
      "[0.000 0.000 ...][0.453 0.725 ...][0.035 0.747 ...][0.551 0.582 ...][0.825 0.149 ...][0.022 0.601 ...][0.000 0.000 ...]\n",
      "[0.000 0.000 ...][0.849 0.853 ...][0.389 0.823 ...][0.113 0.464 ...][0.724 0.112 ...][0.701 0.746 ...][0.000 0.000 ...]\n",
      "[0.000 0.000 ...][0.000 0.000 ...][0.000 0.000 ...][0.000 0.000 ...][0.000 0.000 ...][0.000 0.000 ...][0.000 0.000 ...]\n"
     ]
    }
   ],
   "source": [
    "pretty_print(torch.stack([F.pad(torch.rand([5,5]),(1,1,1,1), \"constant\", 0).unsqueeze(-1) for _ in range(3)],-1).squeeze(-2))"
   ]
  },
  {
   "cell_type": "code",
   "execution_count": 208,
   "id": "60c27e49",
   "metadata": {},
   "outputs": [
    {
     "data": {
      "text/plain": [
       "tensor([[ 1,  2,  3,  4,  5],\n",
       "        [ 6,  7,  8,  9, 10],\n",
       "        [11, 12, 13, 14, 15],\n",
       "        [16, 17, 18, 19, 20],\n",
       "        [21, 22, 23, 24, 25]])"
      ]
     },
     "execution_count": 208,
     "metadata": {},
     "output_type": "execute_result"
    }
   ],
   "source": [
    "torch.arange(25).reshape(5,5) + 1"
   ]
  },
  {
   "cell_type": "code",
   "execution_count": 45,
   "id": "b6ecd400",
   "metadata": {},
   "outputs": [
    {
     "ename": "TypeError",
     "evalue": "normal() received an invalid combination of arguments - got (mean=int, std=int, out=Tensor, ), but expected one of:\n * (Tensor mean, Tensor std, *, torch.Generator generator, Tensor out)\n * (Tensor mean, float std, *, torch.Generator generator, Tensor out)\n * (float mean, Tensor std, *, torch.Generator generator, Tensor out)\n * (float mean, float std, tuple of ints size, *, torch.Generator generator, Tensor out, torch.dtype dtype, torch.layout layout, torch.device device, bool pin_memory, bool requires_grad)\n",
     "output_type": "error",
     "traceback": [
      "\u001b[1;31m---------------------------------------------------------------------------\u001b[0m",
      "\u001b[1;31mTypeError\u001b[0m                                 Traceback (most recent call last)",
      "\u001b[1;32m<ipython-input-45-2ff60668021e>\u001b[0m in \u001b[0;36m<module>\u001b[1;34m\u001b[0m\n\u001b[0;32m      1\u001b[0m \u001b[0mmutation\u001b[0m \u001b[1;33m=\u001b[0m \u001b[0mtorch\u001b[0m\u001b[1;33m.\u001b[0m\u001b[0mzeros\u001b[0m\u001b[1;33m(\u001b[0m\u001b[1;33m[\u001b[0m\u001b[1;36m5\u001b[0m\u001b[1;33m,\u001b[0m\u001b[1;36m5\u001b[0m\u001b[1;33m]\u001b[0m\u001b[1;33m)\u001b[0m\u001b[1;33m\u001b[0m\u001b[1;33m\u001b[0m\u001b[0m\n\u001b[1;32m----> 2\u001b[1;33m \u001b[0mtorch\u001b[0m\u001b[1;33m.\u001b[0m\u001b[0mnormal\u001b[0m\u001b[1;33m(\u001b[0m\u001b[0mmean\u001b[0m\u001b[1;33m=\u001b[0m\u001b[1;36m0\u001b[0m\u001b[1;33m,\u001b[0m\u001b[0mstd\u001b[0m\u001b[1;33m=\u001b[0m\u001b[1;36m1\u001b[0m\u001b[1;33m,\u001b[0m\u001b[0mout\u001b[0m \u001b[1;33m=\u001b[0m \u001b[0mmutation\u001b[0m\u001b[1;33m)\u001b[0m\u001b[1;33m\u001b[0m\u001b[1;33m\u001b[0m\u001b[0m\n\u001b[0m",
      "\u001b[1;31mTypeError\u001b[0m: normal() received an invalid combination of arguments - got (mean=int, std=int, out=Tensor, ), but expected one of:\n * (Tensor mean, Tensor std, *, torch.Generator generator, Tensor out)\n * (Tensor mean, float std, *, torch.Generator generator, Tensor out)\n * (float mean, Tensor std, *, torch.Generator generator, Tensor out)\n * (float mean, float std, tuple of ints size, *, torch.Generator generator, Tensor out, torch.dtype dtype, torch.layout layout, torch.device device, bool pin_memory, bool requires_grad)\n"
     ]
    }
   ],
   "source": [
    "mutation = torch.zeros([5,5])\n",
    "torch.normal(mean=0,std=1,out = mutation)"
   ]
  },
  {
   "cell_type": "code",
   "execution_count": 151,
   "id": "22c7e0e7",
   "metadata": {},
   "outputs": [],
   "source": [
    "def insert_io(grid, i, o):\n",
    "    grid[:, 0][1:3] = i.unsqueeze(-1)\n",
    "    grid[:, -1][2] = o.unsqueeze(-1)\n",
    "    return grid\n"
   ]
  },
  {
   "cell_type": "code",
   "execution_count": 152,
   "id": "0418794e",
   "metadata": {},
   "outputs": [
    {
     "name": "stdout",
     "output_type": "stream",
     "text": [
      "[0.000 0.000][0.000 0.000][0.000 0.000][0.000 0.000][0.000 0.000][0.000 0.000][0.000 0.000]\n",
      "[100.000 100....][1.039 1.791][1.932 1.131][1.971 1.657][1.870 1.964][1.504 1.530][0.000 0.000]\n",
      "[200.000 200....][1.170 1.448][1.271 1.165][1.178 1.679][1.822 1.451][1.771 1.147][300.000 300....]\n",
      "[0.000 0.000][1.760 1.644][1.101 1.492][1.145 1.860][1.904 1.737][1.941 1.946][0.000 0.000]\n",
      "[0.000 0.000][1.767 1.773][1.575 1.493][1.933 1.849][1.555 1.426][1.915 1.672][0.000 0.000]\n",
      "[0.000 0.000][1.274 1.941][1.635 1.082][1.229 1.672][1.678 1.418][1.093 1.533][0.000 0.000]\n",
      "[0.000 0.000][0.000 0.000][0.000 0.000][0.000 0.000][0.000 0.000][0.000 0.000][0.000 0.000]\n"
     ]
    }
   ],
   "source": [
    "size = 2\n",
    "r = Rule(2)\n",
    "#a = #torch.arange(25).reshape(5,5).unsqueeze(-1).repeat(1,1,2)\n",
    "#pretty_print(a)\n",
    "g =r.build_grid(5,5)\n",
    "#pretty_print(g)\n",
    "pretty_print(insert_io(g, torch.tensor([100,200]), torch.tensor([300])))"
   ]
  },
  {
   "cell_type": "code",
   "execution_count": 113,
   "id": "05e8ccb6",
   "metadata": {},
   "outputs": [],
   "source": [
    "a[:, 0][1:3] = torch.tensor([100,200])"
   ]
  },
  {
   "cell_type": "code",
   "execution_count": 114,
   "id": "4b870df0",
   "metadata": {},
   "outputs": [
    {
     "data": {
      "text/plain": [
       "tensor([[  0,   1,   2,   3,   4],\n",
       "        [100,   6,   7,   8,   9],\n",
       "        [200,  11,  12,  13,  14],\n",
       "        [ 15,  16,  17,  18,  19],\n",
       "        [ 20,  21,  22,  23,  24]])"
      ]
     },
     "execution_count": 114,
     "metadata": {},
     "output_type": "execute_result"
    }
   ],
   "source": [
    "a"
   ]
  },
  {
   "cell_type": "code",
   "execution_count": 119,
   "id": "6d7b1d81",
   "metadata": {},
   "outputs": [],
   "source": []
  },
  {
   "cell_type": "code",
   "execution_count": 120,
   "id": "a2ac3447",
   "metadata": {},
   "outputs": [
    {
     "data": {
      "text/plain": [
       "tensor([[  0,   1,   2,   3,   4],\n",
       "        [100,   6,   7,   8,   9],\n",
       "        [200,  11,  12,  13, 300],\n",
       "        [ 15,  16,  17,  18,  19],\n",
       "        [ 20,  21,  22,  23,  24]])"
      ]
     },
     "execution_count": 120,
     "metadata": {},
     "output_type": "execute_result"
    }
   ],
   "source": [
    "insert_io(a, torch.tensor([100,200]), torch.tensor([300]))"
   ]
  },
  {
   "cell_type": "code",
   "execution_count": 131,
   "id": "4358d192",
   "metadata": {},
   "outputs": [
    {
     "data": {
      "text/plain": [
       "tensor([5., 5., 5., 5., 5.])"
      ]
     },
     "execution_count": 131,
     "metadata": {},
     "output_type": "execute_result"
    }
   ],
   "source": [
    "t = torch.zeros([5])\n",
    "t[:] = 5\n",
    "t"
   ]
  },
  {
   "cell_type": "code",
   "execution_count": null,
   "id": "a0760279",
   "metadata": {},
   "outputs": [],
   "source": []
  }
 ],
 "metadata": {
  "kernelspec": {
   "display_name": "Python 3",
   "language": "python",
   "name": "python3"
  },
  "language_info": {
   "codemirror_mode": {
    "name": "ipython",
    "version": 3
   },
   "file_extension": ".py",
   "mimetype": "text/x-python",
   "name": "python",
   "nbconvert_exporter": "python",
   "pygments_lexer": "ipython3",
   "version": "3.8.0"
  }
 },
 "nbformat": 4,
 "nbformat_minor": 5
}
